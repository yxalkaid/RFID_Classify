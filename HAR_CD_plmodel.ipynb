{
 "cells": [
  {
   "cell_type": "markdown",
   "metadata": {},
   "source": [
    "### 人类活动识别——条件扩散"
   ]
  },
  {
   "cell_type": "code",
   "execution_count": null,
   "metadata": {},
   "outputs": [],
   "source": [
    "# 数据预处理\n",
    "from torchvision import transforms\n",
    "from model.Normalization import RobustNorm\n",
    "\n",
    "transform=transforms.Compose([\n",
    "    RobustNorm(-68.0, 68.0),\n",
    "])"
   ]
  },
  {
   "cell_type": "code",
   "execution_count": null,
   "metadata": {},
   "outputs": [],
   "source": [
    "# 加载数据集\n",
    "from model.RFID_Dataset import RFID_Dataset\n",
    "\n",
    "train_dir = r\"data\\RFID_multi_628\\dataset\\train\"\n",
    "eval_dir = r\"data\\RFID_multi_628\\dataset\\eval\"\n",
    "\n",
    "train_dataset = RFID_Dataset(\n",
    "    train_dir,\n",
    "    T=32,\n",
    "    step=1,\n",
    "    num_channels=3,\n",
    "    transform=transform,\n",
    ")\n",
    "\n",
    "eval_dataset = RFID_Dataset(\n",
    "    eval_dir,\n",
    "    T=32,\n",
    "    step=1,\n",
    "    num_channels=3,\n",
    "    transform=transform,\n",
    ")\n",
    "\n",
    "print(f\"训练集的数据个数: {len(train_dataset)}\")\n",
    "print(f\"验证集的数据个数: {len(eval_dataset)}\")"
   ]
  },
  {
   "cell_type": "code",
   "execution_count": null,
   "metadata": {},
   "outputs": [],
   "source": [
    "# 模型组网\n",
    "\n",
    "from model.base.UNet import UNet\n",
    "# from model.v1.UNet import UNet\n",
    "# from model.v2.UNet import UNet\n",
    "# from model.v3.UNet import UNet\n",
    "# from model.v4.UNet import UNet\n",
    "\n",
    "from model.BetaScheduler import LinearBetaScheduler\n",
    "from model.CD_Model import CD_Model\n",
    "from model.ModelWorker.CDModelWorker import CDModelWorker\n",
    "import torch\n",
    "from torchkeras import summary\n",
    "\n",
    "input_shape = (3, 32, 12)\n",
    "\n",
    "model = CD_Model(\n",
    "    UNet(\n",
    "        input_shape=input_shape,\n",
    "        init_features=64,\n",
    "        embed_dim=128,\n",
    "        num_heads=1,\n",
    "        num_groups=16,\n",
    "    ),\n",
    "    LinearBetaScheduler(timesteps=1000,beta_end=0.02),\n",
    "    num_classes=6,\n",
    "    embed_dim=128,\n",
    "    enable_guidance=True,\n",
    ")\n",
    "\n",
    "model_worker = CDModelWorker(model)\n",
    "\n",
    "print(f\"{input_shape=}\")\n",
    "\n",
    "time = torch.tensor([0], dtype=torch.long)\n",
    "condition = torch.tensor([0], dtype=torch.long)\n",
    "model_info = summary(model, input_shape=input_shape, time=time, condition=condition)"
   ]
  },
  {
   "cell_type": "code",
   "execution_count": null,
   "metadata": {},
   "outputs": [],
   "source": [
    "# 模型准备\n",
    "from torch.utils.data import DataLoader\n",
    "from torch import nn\n",
    "from torch import optim\n",
    "from model.Loss import *\n",
    "from model.LightningModel.CDPLMpdel import CDPLModel\n",
    "\n",
    "train_loader = DataLoader(train_dataset, batch_size=64, shuffle=True)\n",
    "eval_loader = DataLoader(eval_dataset, batch_size=16)\n",
    "\n",
    "# loss = nn.MSELoss()\n",
    "loss = MinSNRLoss()\n",
    "# loss=SigmoidLoss()\n",
    "\n",
    "pl_model = CDPLModel(\n",
    "    model,\n",
    "    loss\n",
    ")"
   ]
  },
  {
   "cell_type": "code",
   "execution_count": null,
   "metadata": {},
   "outputs": [],
   "source": [
    "# 构建PLTrainer\n",
    "import pytorch_lightning as pl\n",
    "from pytorch_lightning.callbacks import ModelCheckpoint,EarlyStopping\n",
    "\n",
    "trainer = pl.Trainer(\n",
    "    max_epochs=100,\n",
    "    min_epochs=5,\n",
    "    logger=True,\n",
    "    callbacks=[\n",
    "        ModelCheckpoint(save_weights_only=True),\n",
    "        # EarlyStopping(monitor=\"val/loss\", patience=5),\n",
    "        # EarlyStopping(monitor=\"val/loss\", patience=5,mode=\"min\"),\n",
    "    ],\n",
    "    default_root_dir=\"./output/HAR\",\n",
    ")"
   ]
  },
  {
   "cell_type": "code",
   "execution_count": null,
   "metadata": {},
   "outputs": [],
   "source": [
    "# 模型训练\n",
    "\n",
    "trainer.fit(\n",
    "    pl_model,\n",
    "    train_loader,\n",
    "    eval_loader,\n",
    ")\n",
    "best_model_path=trainer.checkpoint_callback.best_model_path\n",
    "print(best_model_path)"
   ]
  },
  {
   "cell_type": "code",
   "execution_count": null,
   "metadata": {},
   "outputs": [],
   "source": [
    "# 模型评估\n",
    "\n",
    "trainer.validate(\n",
    "    pl_model,\n",
    "    eval_loader,\n",
    ")"
   ]
  },
  {
   "cell_type": "code",
   "execution_count": null,
   "metadata": {},
   "outputs": [],
   "source": [
    "# 加载PLModel\n",
    "\n",
    "pl_model=CDPLModel.load_from_checkpoint(\n",
    "    best_model_path, \n",
    "    model=model, \n",
    "    criterion=loss,\n",
    ")"
   ]
  },
  {
   "cell_type": "code",
   "execution_count": null,
   "metadata": {},
   "outputs": [],
   "source": [
    "# 模型评估-时间步序列\n",
    "import torch\n",
    "from torch import nn\n",
    "\n",
    "sequence=torch.linspace(0, 1000,10+1,dtype=torch.long).tolist()[1:]\n",
    "\n",
    "# eval_loss=nn.MSELoss()\n",
    "eval_loss=ConstantLoss()\n",
    "loss_group=model_worker.evaluate_sequence(\n",
    "    eval_loader=train_loader,\n",
    "    criterion=eval_loss,\n",
    "    time=sequence,\n",
    "    verbose=1\n",
    ")\n",
    "\n",
    "print(sequence)"
   ]
  },
  {
   "cell_type": "code",
   "execution_count": null,
   "metadata": {},
   "outputs": [],
   "source": [
    "for item in loss_group.items():\n",
    "    print(f\"{item[0]:4d}: {item[1]:.6f}\")\n",
    "from utils.DataUtils.Visualization import plot_curves,plot_scatter\n",
    "\n",
    "plot_scatter(\n",
    "    loss_group,\n",
    ")"
   ]
  },
  {
   "cell_type": "code",
   "execution_count": null,
   "metadata": {},
   "outputs": [],
   "source": [
    "# 保存模型\n",
    "model_worker.save('./output/HAR_CD/base/HAR_CD.pth')"
   ]
  },
  {
   "cell_type": "code",
   "execution_count": null,
   "metadata": {},
   "outputs": [],
   "source": [
    "# 加载模型\n",
    "model_worker.load('./output/HAR_CD/base/HAR_CD.pth')"
   ]
  },
  {
   "cell_type": "code",
   "execution_count": null,
   "metadata": {},
   "outputs": [],
   "source": [
    "# DDPM采样\n",
    "\n",
    "from model.RFID_Dataset import save_samples\n",
    "\n",
    "num_classes = 6\n",
    "for _ in range(3):\n",
    "    for i in range(num_classes):\n",
    "        # 生成数据\n",
    "        condition = i\n",
    "        datas = model_worker.generate_sample_batch(\n",
    "            20,\n",
    "            condition,\n",
    "            guidance_scale=2,\n",
    "        )\n",
    "\n",
    "        # 保存数据\n",
    "        save_samples(\n",
    "            datas, \n",
    "            output_dir=f\"./output/base/{condition}\",\n",
    "            merge=True,\n",
    "        )"
   ]
  },
  {
   "cell_type": "code",
   "execution_count": null,
   "metadata": {},
   "outputs": [],
   "source": [
    "# DDIM采样\n",
    "\n",
    "from model.RFID_Dataset import save_samples\n",
    "\n",
    "num_classes = 6\n",
    "for i in range(num_classes):\n",
    "    # 生成数据\n",
    "    condition = i\n",
    "    cond = torch.full((20,), condition, dtype=torch.long)\n",
    "    datas = model_worker.generate_sample_DDIM(\n",
    "        cond,\n",
    "        time=model_worker.get_linear_sampling_sequence(50),\n",
    "        eta=0.0,\n",
    "        guidance_scale=2,\n",
    "    )\n",
    "\n",
    "    # 保存数据\n",
    "    save_samples(\n",
    "        datas, \n",
    "        output_dir=f\"./output/base_DDIM/{condition}\",\n",
    "        merge=True,\n",
    "    )"
   ]
  }
 ],
 "metadata": {
  "kernelspec": {
   "display_name": ".venv",
   "language": "python",
   "name": "python3"
  },
  "language_info": {
   "codemirror_mode": {
    "name": "ipython",
    "version": 3
   },
   "file_extension": ".py",
   "mimetype": "text/x-python",
   "name": "python",
   "nbconvert_exporter": "python",
   "pygments_lexer": "ipython3",
   "version": "3.12.7"
  }
 },
 "nbformat": 4,
 "nbformat_minor": 2
}
