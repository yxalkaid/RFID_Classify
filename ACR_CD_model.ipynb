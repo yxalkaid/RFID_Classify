{
 "cells": [
  {
   "cell_type": "markdown",
   "metadata": {},
   "source": [
    "### 条件扩散"
   ]
  },
  {
   "cell_type": "code",
   "execution_count": null,
   "metadata": {},
   "outputs": [],
   "source": [
    "from torchvision import transforms\n",
    "\n",
    "from utils.RFID_Dataset import RFID_Dataset\n",
    "from utils.DatasetUtils import DatasetUtils\n",
    "\n",
    "data_utils = DatasetUtils()\n",
    "\n",
    "transform = transforms.Compose([\n",
    "])\n",
    "\n",
    "train_dir = r\"data\\RFID\\dataset\\train\"\n",
    "eval_dir = r\"data\\RFID\\dataset\\eval\"\n",
    "\n",
    "# 加载数据集\n",
    "train_dataset = RFID_Dataset(\n",
    "    train_dir,\n",
    "    T=32,\n",
    "    step=1,\n",
    "    transform=transform,\n",
    ")\n",
    "\n",
    "eval_dataset = RFID_Dataset(\n",
    "    eval_dir,\n",
    "    T=32,\n",
    "    step=1,\n",
    "    transform=transform,\n",
    ")\n",
    "\n",
    "print(f\"训练集的数据个数: {len(train_dataset)}\")\n",
    "print(f\"验证集的数据个数: {len(eval_dataset)}\")"
   ]
  },
  {
   "cell_type": "code",
   "execution_count": null,
   "metadata": {},
   "outputs": [],
   "source": [
    "# 模型组网\n",
    "\n",
    "import torch\n",
    "from model.BetaScheduler import LinearBetaScheduler\n",
    "from model.UNet import UNet\n",
    "from model.CD_Model import CD_Model\n",
    "from utils.ModelWorker.CDModelWorker import CDModelWorker\n",
    "from torchkeras import summary\n",
    "\n",
    "input_shape=data_utils.get_data_shape(train_dataset)\n",
    "\n",
    "model=CD_Model(\n",
    "    UNet(\n",
    "        input_shape=input_shape,\n",
    "        num_classes=3,\n",
    "        init_features=64,\n",
    "        embed_dim=64\n",
    "    ),\n",
    "    LinearBetaScheduler()\n",
    ")\n",
    "\n",
    "model_worker=CDModelWorker(model)\n",
    "\n",
    "print(f\"{input_shape=}\")\n",
    "\n",
    "time=torch.Tensor([0])\n",
    "condition=torch.Tensor([0])\n",
    "model_info=summary(model,input_shape=input_shape,time=time,condition=condition)"
   ]
  },
  {
   "cell_type": "code",
   "execution_count": null,
   "metadata": {},
   "outputs": [],
   "source": [
    "# 模型准备\n",
    "from torch.utils.data import DataLoader\n",
    "from torch import nn\n",
    "from torch import optim\n",
    "\n",
    "train_loader = DataLoader(train_dataset, batch_size=16, shuffle=True)\n",
    "eval_loader = DataLoader(eval_dataset, batch_size=8)\n",
    "\n",
    "loss = nn.MSELoss()\n",
    "optimizer = optim.Adam(model.parameters(), lr=0.0001)\n"
   ]
  },
  {
   "cell_type": "code",
   "execution_count": null,
   "metadata": {},
   "outputs": [],
   "source": [
    "# 模型训练\n",
    "\n",
    "model_worker.train(\n",
    "    criterion=loss,\n",
    "    optimizer=optimizer,\n",
    "    train_loader=train_loader,\n",
    "    eval_loader=eval_loader,\n",
    "    epochs=10,\n",
    ")"
   ]
  },
  {
   "cell_type": "code",
   "execution_count": null,
   "metadata": {},
   "outputs": [],
   "source": [
    "# 模型评估\n",
    "\n",
    "model_worker.evaluate(\n",
    "    eval_loader=eval_loader,\n",
    "    criterion=loss,\n",
    ")"
   ]
  },
  {
   "cell_type": "code",
   "execution_count": null,
   "metadata": {},
   "outputs": [],
   "source": [
    "# 保存模型\n",
    "model_worker.save('./output/ACR_CD_model.pth')"
   ]
  },
  {
   "cell_type": "code",
   "execution_count": null,
   "metadata": {},
   "outputs": [],
   "source": [
    "# 加载模型\n",
    "model_worker.load('./output/ACR_CD_model.pth')"
   ]
  },
  {
   "cell_type": "code",
   "execution_count": null,
   "metadata": {},
   "outputs": [],
   "source": [
    "# 生成数据\n",
    "\n",
    "condition = 2\n",
    "datas=model_worker.generate_sample(20,condition,add_noise=True)"
   ]
  },
  {
   "cell_type": "code",
   "execution_count": null,
   "metadata": {},
   "outputs": [],
   "source": [
    "# 保存数据\n",
    "\n",
    "from utils.CSVUtils import save_samples_as_csv\n",
    "\n",
    "save_samples_as_csv(datas, output_dir=f\"./output/data/{condition}\")"
   ]
  }
 ],
 "metadata": {
  "kernelspec": {
   "display_name": ".venv",
   "language": "python",
   "name": "python3"
  },
  "language_info": {
   "codemirror_mode": {
    "name": "ipython",
    "version": 3
   },
   "file_extension": ".py",
   "mimetype": "text/x-python",
   "name": "python",
   "nbconvert_exporter": "python",
   "pygments_lexer": "ipython3",
   "version": "3.12.7"
  }
 },
 "nbformat": 4,
 "nbformat_minor": 2
}
