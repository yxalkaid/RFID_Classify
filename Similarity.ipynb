{
 "cells": [
  {
   "cell_type": "markdown",
   "metadata": {},
   "source": [
    "## 图像质量评估指标公式与参数解释\n",
    "\n",
    "\n",
    "### 关键特性对比\n",
    "| 指标   | 评估对象       | 输入类型       | 值域方向      | 典型应用场景       |\n",
    "|--------|----------------|----------------|---------------|--------------------|\n",
    "| SSIM   | 单对图像       | 像素级对比     | 值越高越好    | 图像修复/超分辨率 |\n",
    "| FID    | 数据分布       | 特征空间分布   | 值越低越好    | GAN模型评估       |\n",
    "\n",
    "---\n",
    "\n",
    "### 1. SSIM (结构相似性指数)\n",
    "\n",
    "#### 公式\n",
    "$$\n",
    "\\text{SSIM}(x, y) = \\frac{(2\\mu_x \\mu_y + C_1)(2\\sigma_{xy} + C_2)}{(\\mu_x^2 + \\mu_y^2 + C_1)(\\sigma_x^2 + \\sigma_y^2 + C_2)}\n",
    "$$\n",
    "\n",
    "#### 参数说明\n",
    "- $\\mu_x, \\mu_y$: 图像 $x$ 和 $y$ 的**局部均值**  \n",
    "- $\\sigma_x^2, \\sigma_y^2$: 图像 $x$ 和 $y$ 的**局部方差**  \n",
    "- $\\sigma_{xy}$: 图像 $x$ 和 $y$ 之间的**协方差**  \n",
    "- $C_1, C_2$: 防止分母为零的**稳定常数**，通常定义为：\n",
    "  - $C_1 = (k_1 L)^2$,  $C_2 = (k_2 L)^2$  \n",
    "  - 其中 $L$ 是像素值的动态范围（如 `255` 对应 8-bit 图像）  \n",
    "  - $k_1 = 0.01$, $k_2 = 0.03$（默认值）\n",
    "\n",
    "---\n",
    "\n",
    "### 2. FID (Frechet Inception Distance)\n",
    "\n",
    "#### 公式\n",
    "$$\n",
    "\\text{FID} = \\|\\mu_P - \\mu_Q\\|^2 + \\text{Tr}\\left( \\Sigma_P + \\Sigma_Q - 2 (\\Sigma_P \\Sigma_Q)^{1/2} \\right)\n",
    "$$\n",
    "\n",
    "#### 参数说明\n",
    "- $\\mu_P, \\mu_Q$: 真实数据分布 $P$ 和生成数据分布 $Q$ 的**特征均值向量**  \n",
    "  - 通过预训练模型（如 Inception-v3）提取的特征向量的均值\n",
    "- $\\Sigma_P, \\Sigma_Q$: 真实数据分布 $P$ 和生成数据分布 $Q$ 的**协方差矩阵**  \n",
    "  - 描述特征向量之间的相关性\n",
    "- $\\text{Tr}(\\cdot)$: 矩阵的**迹**（对角线元素之和）  \n",
    "- $(\\Sigma_P \\Sigma_Q)^{1/2}$: 协方差矩阵乘积的**平方根矩阵**  \n",
    "  - 需通过数值方法（如 SVD）计算实数解"
   ]
  },
  {
   "cell_type": "code",
   "execution_count": null,
   "metadata": {},
   "outputs": [],
   "source": [
    "# SSIM\n",
    "\n",
    "from skimage.metrics import structural_similarity\n",
    "import numpy as np\n",
    "def batch_ssim(real_batch, fake_batch, data_range=1.0, channel_axis=-1):\n",
    "    \"\"\"\n",
    "    计算批量数据的平均SSIM\n",
    "    :param real_batch: 真实图像批次，形状 (N, H, W, C)\n",
    "    :param fake_batch: 生成图像批次，形状 (N, H, W, C)\n",
    "    :param data_range: 像素值范围（如 255 或 1.0）\n",
    "    :param channel_axis: 通道轴位置（默认最后一位）\n",
    "    :return: 平均SSIM值\n",
    "    \"\"\"\n",
    "\n",
    "    assert real_batch.shape == fake_batch.shape\n",
    "    batch_size = real_batch.shape[0]\n",
    "    ssim_scores = []\n",
    "\n",
    "    for i in range(batch_size):\n",
    "        real_img = real_batch[i]\n",
    "        fake_img = fake_batch[i]\n",
    "\n",
    "        score = structural_similarity(\n",
    "            real_img, fake_img, data_range=data_range, channel_axis=channel_axis\n",
    "        )\n",
    "        ssim_scores.append(score)\n",
    "\n",
    "    return np.mean(ssim_scores)"
   ]
  },
  {
   "cell_type": "code",
   "execution_count": null,
   "metadata": {},
   "outputs": [],
   "source": [
    "# FID\n",
    "\n",
    "# TODO\n"
   ]
  }
 ],
 "metadata": {
  "kernelspec": {
   "display_name": ".venv",
   "language": "python",
   "name": "python3"
  },
  "language_info": {
   "name": "python",
   "version": "3.12.7"
  }
 },
 "nbformat": 4,
 "nbformat_minor": 2
}
