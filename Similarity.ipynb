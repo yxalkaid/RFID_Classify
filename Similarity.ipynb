{
 "cells": [
  {
   "cell_type": "markdown",
   "metadata": {},
   "source": [
    "## 图像质量评估指标公式与参数解释\n",
    "\n",
    "\n",
    "### 关键特性对比\n",
    "| 指标   | 评估对象       | 输入类型       | 值域方向      | 典型应用场景       |\n",
    "|--------|----------------|----------------|---------------|--------------------|\n",
    "| SSIM   | 单对图像       | 像素级对比     | 值越高越好    | 图像修复/超分辨率 |\n",
    "| FID    | 数据分布       | 特征空间分布   | 值越低越好    | GAN模型评估       |\n",
    "\n",
    "---\n",
    "\n",
    "### 1. SSIM (结构相似性指数)\n",
    "\n",
    "#### 公式\n",
    "$$\n",
    "\\text{SSIM}(x, y) = \\frac{(2\\mu_x \\mu_y + C_1)(2\\sigma_{xy} + C_2)}{(\\mu_x^2 + \\mu_y^2 + C_1)(\\sigma_x^2 + \\sigma_y^2 + C_2)}\n",
    "$$\n",
    "\n",
    "#### 参数说明\n",
    "- $\\mu_x, \\mu_y$: 图像 $x$ 和 $y$ 的**局部均值**  \n",
    "- $\\sigma_x^2, \\sigma_y^2$: 图像 $x$ 和 $y$ 的**局部方差**  \n",
    "- $\\sigma_{xy}$: 图像 $x$ 和 $y$ 之间的**协方差**  \n",
    "- $C_1, C_2$: 防止分母为零的**稳定常数**，通常定义为：\n",
    "  - $C_1 = (k_1 L)^2$,  $C_2 = (k_2 L)^2$  \n",
    "  - 其中 $L$ 是像素值的动态范围（如 `255` 对应 8-bit 图像）  \n",
    "  - $k_1 = 0.01$, $k_2 = 0.03$（默认值）\n",
    "\n",
    "---\n",
    "\n",
    "### 2. FID (Frechet Inception Distance)\n",
    "\n",
    "#### 公式\n",
    "$$\n",
    "\\text{FID} = \\|\\mu_P - \\mu_Q\\|^2 + \\text{Tr}\\left( \\Sigma_P + \\Sigma_Q - 2 (\\Sigma_P \\Sigma_Q)^{1/2} \\right)\n",
    "$$\n",
    "\n",
    "#### 参数说明\n",
    "- $\\mu_P, \\mu_Q$: 真实数据分布 $P$ 和生成数据分布 $Q$ 的**特征均值向量**  \n",
    "  - 通过预训练模型（如 Inception-v3）提取的特征向量的均值\n",
    "- $\\Sigma_P, \\Sigma_Q$: 真实数据分布 $P$ 和生成数据分布 $Q$ 的**协方差矩阵**  \n",
    "  - 描述特征向量之间的相关性\n",
    "- $\\text{Tr}(\\cdot)$: 矩阵的**迹**（对角线元素之和）  \n",
    "- $(\\Sigma_P \\Sigma_Q)^{1/2}$: 协方差矩阵乘积的**平方根矩阵**  \n",
    "  - 需通过数值方法（如 SVD）计算实数解"
   ]
  },
  {
   "cell_type": "code",
   "execution_count": null,
   "metadata": {},
   "outputs": [],
   "source": [
    "from torchvision import transforms\n",
    "from model.Normalization import *\n",
    "\n",
    "transform=transforms.Compose([\n",
    "    # transforms.Normalize((0,),(10.0,))\n",
    "    # TanhNorm(scale=25)\n",
    "    # MinMaxNorm(0,10)\n",
    "])\n",
    "# transform=None"
   ]
  },
  {
   "cell_type": "code",
   "execution_count": null,
   "metadata": {},
   "outputs": [],
   "source": [
    "from model.RFID_Dataset import RFID_Dataset\n",
    "\n",
    "# 训练集\n",
    "train_dataset=RFID_Dataset(\n",
    "    r\"data\\RFID\\dataset\\all\",\n",
    "    T=32,\n",
    "    step=1,\n",
    "    transform=transform,\n",
    ")\n",
    "print(f\"训练集的数据个数: {len(train_dataset)}\")"
   ]
  },
  {
   "cell_type": "code",
   "execution_count": null,
   "metadata": {},
   "outputs": [],
   "source": [
    "from model.RFID_Dataset import RFID_Dataset\n",
    "\n",
    "# 测试集\n",
    "test_dataset=RFID_Dataset(\n",
    "    r\"./output/improve_v1\",\n",
    "    T=32,\n",
    "    step=1,\n",
    "    transform=transform,\n",
    ")\n",
    "print(f\"测试集的数据个数: {len(test_dataset)}\")"
   ]
  },
  {
   "cell_type": "code",
   "execution_count": null,
   "metadata": {},
   "outputs": [],
   "source": [
    "from utils.SimilarityUtils import *\n",
    "\n",
    "used_dataset=train_dataset\n",
    "\n",
    "all_datas=used_dataset[:][0]\n",
    "\n",
    "print(f\"mean: {all_datas.mean()}\")\n",
    "print(f\"std: {all_datas.std()}\")\n",
    "print(f\"feature_mean: {all_datas.mean(dim=(0,1,2))}\")\n",
    "print(f\"feature_std: {all_datas.std(dim=(0,1,2))}\")\n",
    "\n",
    "for i in range(3):\n",
    "\n",
    "    datas = filter_datas(used_dataset, i)\n",
    "    print(f\"类别{i}的数据个数: {len(datas)}\")\n",
    "    print(f\"mean: {datas.mean()}\")\n",
    "    print(f\"std: {datas.std()}\")\n",
    "    print(\"=\" * 30)"
   ]
  },
  {
   "cell_type": "code",
   "execution_count": null,
   "metadata": {},
   "outputs": [],
   "source": [
    "from utils.SimilarityUtils import *\n",
    "\n",
    "num_classes =3\n",
    "for i in range(num_classes):\n",
    "    train_datas=filter_datas(train_dataset, i)\n",
    "    fid_train_dataset=FID_Dataset(\n",
    "        train_datas\n",
    "    )\n",
    "\n",
    "    test_datas=filter_datas(test_dataset, i)\n",
    "    fid_test_dataset=FID_Dataset(\n",
    "        test_datas,\n",
    "    )\n",
    "\n",
    "    print(f\"Condition: {i}\")\n",
    "    print(f\"训练集的数据个数: {len(fid_train_dataset)}\")\n",
    "    print(f\"测试集的数据个数: {len(fid_test_dataset)}\")\n",
    "\n",
    "    # 提取特征值\n",
    "    train_features=extract_inception_features(fid_train_dataset)\n",
    "    test_features=extract_inception_features(fid_test_dataset)\n",
    "\n",
    "    # 计算FID分数\n",
    "    fid_score=calculate_fid(train_features, test_features)\n",
    "    print(f\"FID: {fid_score:.6f}\")\n",
    "    print(\"=\"*30)"
   ]
  }
 ],
 "metadata": {
  "kernelspec": {
   "display_name": ".venv",
   "language": "python",
   "name": "python3"
  },
  "language_info": {
   "codemirror_mode": {
    "name": "ipython",
    "version": 3
   },
   "file_extension": ".py",
   "mimetype": "text/x-python",
   "name": "python",
   "nbconvert_exporter": "python",
   "pygments_lexer": "ipython3",
   "version": "3.12.7"
  }
 },
 "nbformat": 4,
 "nbformat_minor": 2
}
