{
 "cells": [
  {
   "cell_type": "code",
   "execution_count": 2,
   "metadata": {},
   "outputs": [
    {
     "name": "stdout",
     "output_type": "stream",
     "text": [
      "训练集的数据个数: 60000\n",
      "验证集的数据个数: 10000\n"
     ]
    }
   ],
   "source": [
    "from torchvision.datasets import MNIST\n",
    "import torchvision.transforms as transforms\n",
    "from utils.DatasetUtils import DatasetUtils \n",
    "\n",
    "data_utils= DatasetUtils()\n",
    "\n",
    "# 加载数据集\n",
    "transform = transforms.Compose([\n",
    "    transforms.ToTensor(),\n",
    "    transforms.Normalize((0.5,), (0.5,))\n",
    "])\n",
    "\n",
    "train_dataset = MNIST(root='./data', train=True, download=True, transform=transform)\n",
    "eval_dataset = MNIST(root='./data', train=False, download=True, transform=transform)\n",
    "\n",
    "print(f\"训练集的数据个数: {len(train_dataset)}\")\n",
    "print(f\"验证集的数据个数: {len(eval_dataset)}\")"
   ]
  },
  {
   "cell_type": "code",
   "execution_count": 3,
   "metadata": {},
   "outputs": [
    {
     "name": "stdout",
     "output_type": "stream",
     "text": [
      "input_shape=(1, 28, 28)\n"
     ]
    }
   ],
   "source": [
    "# 模型组网\n",
    "\n",
    "from model.BetaScheduler import LinearBetaScheduler\n",
    "from model.UNet import UNet\n",
    "from model.CD_Model import CD_Model\n",
    "\n",
    "input_shape=data_utils.get_data_shape(train_dataset)\n",
    "\n",
    "model=CD_Model(\n",
    "    UNet(\n",
    "        input_shape=input_shape,\n",
    "        num_classes=10,\n",
    "        init_features=64,\n",
    "        embed_dim=128\n",
    "    ),\n",
    "    LinearBetaScheduler()\n",
    ")\n",
    "\n",
    "print(f\"{input_shape=}\")"
   ]
  },
  {
   "cell_type": "code",
   "execution_count": 4,
   "metadata": {},
   "outputs": [],
   "source": [
    "# 模型准备\n",
    "from torch.utils.data import DataLoader\n",
    "from torch import nn\n",
    "from torch import optim\n",
    "\n",
    "train_loader = DataLoader(train_dataset, batch_size=64, shuffle=True)\n",
    "eval_loader = DataLoader(eval_dataset, batch_size=64)\n",
    "\n",
    "loss = nn.MSELoss()\n",
    "optimizer = optim.Adam(model.parameters(), lr=0.001)"
   ]
  },
  {
   "cell_type": "code",
   "execution_count": 5,
   "metadata": {},
   "outputs": [],
   "source": [
    "import torch.profiler\n",
    "with torch.profiler.profile(\n",
    "    activities=[\n",
    "        torch.profiler.ProfilerActivity.CPU,\n",
    "        torch.profiler.ProfilerActivity.CUDA,\n",
    "    ],  # 分析 CPU 和 CUDA 活动\n",
    "    schedule=torch.profiler.schedule(\n",
    "        wait=1,  # 前1步不采样\n",
    "        warmup=1,  # 第2步作为热身，不计入结果\n",
    "        active=3,  # 采集后面3步的性能数据\n",
    "        repeat=2,\n",
    "    ),  # 重复2轮\n",
    "    on_trace_ready=torch.profiler.tensorboard_trace_handler(\n",
    "        \"./logs\"\n",
    "    ),  # 保存日志以供 TensorBoard 可视化\n",
    "    record_shapes=True,  # 记录输入张量的形状\n",
    "    profile_memory=True,  # 分析内存分配\n",
    "    with_stack=True,  # 记录操作的调用堆栈信息\n",
    ") as profiler:\n",
    "\n",
    "    iterator=iter(train_loader)\n",
    "    for step in range(10):\n",
    "        datas, labels = next(iterator)\n",
    "        batch_size = datas.shape[0]\n",
    "        time = torch.randint(\n",
    "                    1, model.timesteps, (batch_size,)\n",
    "                ).long()\n",
    "        outputs = model(datas, time,labels)\n",
    "        loss = outputs.sum()\n",
    "        loss.backward()\n",
    "\n",
    "        profiler.step()  # 更新 profiler 的步骤"
   ]
  }
 ],
 "metadata": {
  "kernelspec": {
   "display_name": ".venv",
   "language": "python",
   "name": "python3"
  },
  "language_info": {
   "codemirror_mode": {
    "name": "ipython",
    "version": 3
   },
   "file_extension": ".py",
   "mimetype": "text/x-python",
   "name": "python",
   "nbconvert_exporter": "python",
   "pygments_lexer": "ipython3",
   "version": "3.12.7"
  }
 },
 "nbformat": 4,
 "nbformat_minor": 2
}
