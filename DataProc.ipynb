{
 "cells": [
  {
   "cell_type": "markdown",
   "id": "00c38ec4",
   "metadata": {},
   "source": [
    "### 数据预处理"
   ]
  },
  {
   "cell_type": "code",
   "execution_count": 1,
   "id": "31a57c74",
   "metadata": {},
   "outputs": [],
   "source": [
    "from utils.ConfigUtils import *\n",
    "from utils.DataUtils.DataProcessor import DataProcessor\n",
    "from utils.DataUtils.Visualization import *\n",
    "import os\n",
    "\n",
    "\n",
    "parent_dir=\"data/RFID_multi_628\"\n",
    "config_path = f\"{parent_dir}/data.yml\"\n",
    "config=load_yml_config(config_path)\n",
    "tags=get_tags(config_path)\n",
    "classes=get_classes(config_path)\n",
    "\n",
    "# 数据存储目录\n",
    "input_dir=f\"{parent_dir}/raw\"\n",
    "output_dir=f\"{parent_dir}/final\"\n",
    "mask_dir=f\"{parent_dir}/mask\"\n",
    "processed_dir=f\"{parent_dir}/processed\"\n",
    "diff_dir=f\"{parent_dir}/diff\"\n",
    "\n",
    "# 单个文件路径\n",
    "file_name=\"multi_antenna.csv\"\n",
    "input_path=os.path.join(input_dir, file_name)\n",
    "output_path=os.path.join(output_dir, file_name)\n",
    "mask_path=os.path.join(mask_dir, file_name)\n",
    "processed_path=os.path.join(processed_dir, file_name)\n",
    "diff_path=os.path.join(diff_dir, file_name)\n",
    "\n",
    "# 数据处理\n",
    "processor=DataProcessor()"
   ]
  },
  {
   "cell_type": "code",
   "execution_count": null,
   "id": "081f5d2b",
   "metadata": {},
   "outputs": [],
   "source": [
    "# 单个文件处理\n",
    "\n",
    "processor.run_pipeline(\n",
    "    input_path, \n",
    "    output_path, \n",
    "    tags,\n",
    "    mask_path=mask_path, \n",
    "    # processed_path=processed_path,s\n",
    "    # diff_path=diff_path,\n",
    "    has_header=True,\n",
    "    enable_trim=False,\n",
    "    multi_antenna=True,\n",
    ")"
   ]
  },
  {
   "cell_type": "code",
   "execution_count": 3,
   "id": "4f095d06",
   "metadata": {},
   "outputs": [],
   "source": [
    "# 批量处理\n",
    "processor.process_batch(\n",
    "    input_dir,\n",
    "    output_dir,\n",
    "    tags,\n",
    "    # mask_dir=mask_dir,\n",
    "    # processed_dir=processed_dir,\n",
    "    # diff_dir=diff_dir,\n",
    "    has_header=True,\n",
    "    multi_antenna=True,\n",
    "    enable_trim=True,\n",
    "    head_sec=2.5,\n",
    "    tail_Sec=2\n",
    ")"
   ]
  },
  {
   "cell_type": "code",
   "execution_count": 7,
   "id": "25d67014",
   "metadata": {},
   "outputs": [],
   "source": [
    "# 移动全部csv文件\n",
    "from utils.CSVUtils import move_csv\n",
    "\n",
    "move_csv(\n",
    "    source_dir=output_dir,\n",
    "    target_dir=f\"{parent_dir}/dataset/train\",\n",
    "    classes=classes,\n",
    "    is_copy=False\n",
    ")"
   ]
  },
  {
   "cell_type": "code",
   "execution_count": 5,
   "id": "ed09e0b2",
   "metadata": {},
   "outputs": [],
   "source": [
    "# 按人名，移动csv文件\n",
    "from utils.CSVUtils import move_csv_by_person\n",
    "\n",
    "move_csv_by_person(\n",
    "    source_dir=output_dir,\n",
    "    target_dir=f\"{parent_dir}/dataset/person\",\n",
    "    classes=classes,\n",
    "    is_copy=True\n",
    ")"
   ]
  },
  {
   "cell_type": "code",
   "execution_count": null,
   "id": "b01cb871",
   "metadata": {},
   "outputs": [],
   "source": [
    "# 合并数据文件夹\n",
    "\n",
    "from utils.CSVUtils import merge_csv_dirs\n",
    "\n",
    "merge_csv_dirs(\n",
    "    [\n",
    "        r\"data\\RFID_626\\dataset\\eval\\hjx\",\n",
    "    ],\n",
    "    r\"data\\RFID_626\\dataset\\temp\",\n",
    "    classes=classes,\n",
    "    is_copy=True\n",
    ")"
   ]
  },
  {
   "cell_type": "code",
   "execution_count": null,
   "id": "5bdfea08",
   "metadata": {},
   "outputs": [],
   "source": [
    "# 绘制单个标签的相位散点图\n",
    "\n",
    "tag_name=\"b0ee\"\n",
    "plot_phase_scatter(\n",
    "    processed_path,\n",
    "    tag_name,\n",
    "    limit=500,\n",
    "    offset=0,\n",
    ")"
   ]
  },
  {
   "cell_type": "code",
   "execution_count": null,
   "id": "4553259d",
   "metadata": {},
   "outputs": [],
   "source": [
    "# 绘制单个标签的相位差值散点图\n",
    "\n",
    "tag_name=\"b0ee\"\n",
    "plot_phase_diff_scatter(\n",
    "    diff_path,\n",
    "    tag_name,\n",
    "    limit=500,\n",
    "    offset=0,\n",
    "    filter_zero=False\n",
    ")"
   ]
  }
 ],
 "metadata": {
  "kernelspec": {
   "display_name": ".venv",
   "language": "python",
   "name": "python3"
  },
  "language_info": {
   "codemirror_mode": {
    "name": "ipython",
    "version": 3
   },
   "file_extension": ".py",
   "mimetype": "text/x-python",
   "name": "python",
   "nbconvert_exporter": "python",
   "pygments_lexer": "ipython3",
   "version": "3.12.7"
  }
 },
 "nbformat": 4,
 "nbformat_minor": 5
}
