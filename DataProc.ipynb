{
 "cells": [
  {
   "cell_type": "markdown",
   "id": "00c38ec4",
   "metadata": {},
   "source": [
    "### 数据预处理"
   ]
  },
  {
   "cell_type": "code",
   "execution_count": 12,
   "id": "31a57c74",
   "metadata": {},
   "outputs": [],
   "source": [
    "from utils.ConfigUtils import *\n",
    "from utils.DataUtils.DataProcessor import DataProcessor\n",
    "from utils.DataUtils.Visualization import *\n",
    "import os\n",
    "\n",
    "\n",
    "parent_dir=\"data/Temp\"\n",
    "config_path = f\"{parent_dir}/data.yml\"\n",
    "config=load_yml_config(config_path)\n",
    "tags=get_tags(config_path)\n",
    "\n",
    "# 数据存储目录\n",
    "input_dir=f\"{parent_dir}/raw\"\n",
    "output_dir=f\"{parent_dir}/final\"\n",
    "mask_dir=f\"{parent_dir}/mask\"\n",
    "processed_dir=f\"{parent_dir}/processed\"\n",
    "\n",
    "# 单个文件路径\n",
    "file_name=\"静止001.csv\"\n",
    "input_path=os.path.join(input_dir, file_name)\n",
    "output_path=os.path.join(output_dir, file_name)\n",
    "mask_path=os.path.join(mask_dir, file_name)\n",
    "processed_path=os.path.join(processed_dir, file_name)\n",
    "\n",
    "# 数据处理\n",
    "processor=DataProcessor()"
   ]
  },
  {
   "cell_type": "code",
   "execution_count": null,
   "id": "864fd478",
   "metadata": {},
   "outputs": [],
   "source": [
    "df=processor.load_data(processed_path)\n",
    "# df=df.ffill()\n",
    "count_df=processor.count_in_window(df)\n",
    "count_df.to_csv(\"temp_0.csv\",index=False)"
   ]
  },
  {
   "cell_type": "code",
   "execution_count": 15,
   "id": "081f5d2b",
   "metadata": {},
   "outputs": [],
   "source": [
    "# 单个文件处理\n",
    "\n",
    "processor.run_pipeline(\n",
    "    input_path, \n",
    "    output_path, \n",
    "    tags,\n",
    "    # mask_path=mask_path, \n",
    "    processed_path=processed_path,\n",
    "    has_header=False,\n",
    "    names=[\"time\", \"id\", \"channel\", \"phase\", \"rssi\"],\n",
    "    trim_data=False,\n",
    "    window_ms=33,\n",
    "    method=\"sum\",\n",
    ")"
   ]
  },
  {
   "cell_type": "code",
   "execution_count": null,
   "id": "4f095d06",
   "metadata": {},
   "outputs": [],
   "source": [
    "# 批量处理\n",
    "processor.process_batch(\n",
    "    input_dir,\n",
    "    output_dir,\n",
    "    tags,\n",
    "    # mask_dir=mask_dir,\n",
    "    # processed_dir=processed_dir,\n",
    "    has_header=False,\n",
    "    names=[\"time\", \"id\", \"channel\", \"phase\", \"rssi\"],\n",
    "    decimals=4\n",
    ")"
   ]
  },
  {
   "cell_type": "code",
   "execution_count": null,
   "id": "5bdfea08",
   "metadata": {},
   "outputs": [],
   "source": [
    "# 绘制单个标签的相位散点图\n",
    "\n",
    "tag_name=\"b0ee\"\n",
    "plot_phase_scatter(\n",
    "    \"temp.csv\",\n",
    "    tag_name,\n",
    "    limit=50,\n",
    "    offset=0,\n",
    ")"
   ]
  },
  {
   "cell_type": "code",
   "execution_count": null,
   "id": "4553259d",
   "metadata": {},
   "outputs": [],
   "source": [
    "# 绘制单个标签的相位差值散点图\n",
    "\n",
    "tag_name=\"b0ee\"\n",
    "plot_phase_diff_scatter(\n",
    "    output_path,\n",
    "    tag_name,\n",
    "    limit=500,\n",
    "    offset=0,\n",
    "    filter_zero=True\n",
    ")"
   ]
  }
 ],
 "metadata": {
  "kernelspec": {
   "display_name": ".venv",
   "language": "python",
   "name": "python3"
  },
  "language_info": {
   "codemirror_mode": {
    "name": "ipython",
    "version": 3
   },
   "file_extension": ".py",
   "mimetype": "text/x-python",
   "name": "python",
   "nbconvert_exporter": "python",
   "pygments_lexer": "ipython3",
   "version": "3.12.7"
  }
 },
 "nbformat": 4,
 "nbformat_minor": 5
}
