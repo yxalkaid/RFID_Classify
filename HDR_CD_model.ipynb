{
 "cells": [
  {
   "cell_type": "markdown",
   "metadata": {},
   "source": [
    "### 条件扩散"
   ]
  },
  {
   "cell_type": "code",
   "execution_count": null,
   "metadata": {},
   "outputs": [],
   "source": [
    "from torchvision.datasets import MNIST\n",
    "import torchvision.transforms as transforms\n",
    "from utils.DatasetUtils import DatasetUtils\n",
    "\n",
    "data_utils= DatasetUtils()\n",
    "\n",
    "# 加载数据集\n",
    "transform = transforms.Compose([\n",
    "    transforms.ToTensor(),\n",
    "    transforms.Normalize((0.5,), (0.5,))\n",
    "])\n",
    "\n",
    "train_dataset = MNIST(root='./data', train=True, download=True, transform=transform)\n",
    "eval_dataset = MNIST(root='./data', train=False, download=True, transform=transform)\n",
    "\n",
    "print(f\"训练集的数据个数: {len(train_dataset)}\")\n",
    "print(f\"验证集的数据个数: {len(eval_dataset)}\")"
   ]
  },
  {
   "cell_type": "code",
   "execution_count": null,
   "metadata": {},
   "outputs": [],
   "source": [
    "# 查看数据集的样例\n",
    "\n",
    "data_utils.show_image_simple(train_dataset,count=4)"
   ]
  },
  {
   "cell_type": "code",
   "execution_count": null,
   "metadata": {},
   "outputs": [],
   "source": [
    "# 模型组网\n",
    "\n",
    "import torch\n",
    "from model.BetaScheduler import LinearBetaScheduler\n",
    "from model.UNet import UNet\n",
    "from model.CD_Model import CD_Model\n",
    "from utils.ModelWorker.CDModelWorker import CDModelWorker\n",
    "from torchkeras import summary\n",
    "\n",
    "input_shape=data_utils.get_data_shape(train_dataset)\n",
    "\n",
    "model=CD_Model(\n",
    "    UNet(\n",
    "        input_shape=input_shape,\n",
    "        num_classes=10,\n",
    "        init_features=64,\n",
    "        embed_dim=128\n",
    "    ),\n",
    "    LinearBetaScheduler()\n",
    ")\n",
    "\n",
    "model_worker=CDModelWorker(model)\n",
    "\n",
    "print(f\"{input_shape=}\")\n",
    "\n",
    "time=torch.Tensor([0])\n",
    "condition=torch.Tensor([0])\n",
    "model_info=summary(model,input_shape=input_shape,time=time,condition=condition)"
   ]
  },
  {
   "cell_type": "code",
   "execution_count": null,
   "metadata": {},
   "outputs": [],
   "source": [
    "# 模型准备\n",
    "from torch.utils.data import DataLoader\n",
    "from torch import nn\n",
    "from torch import optim\n",
    "\n",
    "train_loader = DataLoader(train_dataset, batch_size=64, shuffle=True)\n",
    "eval_loader = DataLoader(eval_dataset, batch_size=64)\n",
    "\n",
    "loss = nn.MSELoss()\n",
    "optimizer = optim.Adam(model.parameters(), lr=0.001)\n"
   ]
  },
  {
   "cell_type": "code",
   "execution_count": null,
   "metadata": {},
   "outputs": [],
   "source": [
    "# 模型训练\n",
    "\n",
    "model_worker.train(\n",
    "    criterion=loss,\n",
    "    optimizer=optimizer,\n",
    "    train_loader=train_loader,\n",
    "    # eval_loader=eval_loader,\n",
    "    epochs=10,\n",
    ")"
   ]
  },
  {
   "cell_type": "code",
   "execution_count": null,
   "metadata": {},
   "outputs": [],
   "source": [
    "# 模型评估\n",
    "\n",
    "model_worker.evaluate(\n",
    "    eval_loader=eval_loader,\n",
    "    criterion=loss,\n",
    ")"
   ]
  },
  {
   "cell_type": "code",
   "execution_count": null,
   "metadata": {},
   "outputs": [],
   "source": [
    "# 保存模型\n",
    "model_worker.save('./output/CD_model.pth')"
   ]
  },
  {
   "cell_type": "code",
   "execution_count": null,
   "metadata": {},
   "outputs": [],
   "source": [
    "# 加载模型\n",
    "model_worker.load('./output/CD_model.pth')"
   ]
  },
  {
   "cell_type": "code",
   "execution_count": null,
   "metadata": {},
   "outputs": [],
   "source": [
    "datas=model_worker.generate_sample(count=4,condition=9,add_noise=True)"
   ]
  },
  {
   "cell_type": "code",
   "execution_count": null,
   "metadata": {},
   "outputs": [],
   "source": [
    "datas=datas.cpu()\n",
    "data_utils.show_image_batch(datas)"
   ]
  }
 ],
 "metadata": {
  "kernelspec": {
   "display_name": ".venv",
   "language": "python",
   "name": "python3"
  },
  "language_info": {
   "codemirror_mode": {
    "name": "ipython",
    "version": 3
   },
   "file_extension": ".py",
   "mimetype": "text/x-python",
   "name": "python",
   "nbconvert_exporter": "python",
   "pygments_lexer": "ipython3",
   "version": "3.12.7"
  }
 },
 "nbformat": 4,
 "nbformat_minor": 2
}
