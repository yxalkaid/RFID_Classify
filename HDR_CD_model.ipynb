{
 "cells": [
  {
   "cell_type": "markdown",
   "metadata": {},
   "source": [
    "### 条件扩散"
   ]
  },
  {
   "cell_type": "code",
   "execution_count": 1,
   "metadata": {},
   "outputs": [
    {
     "name": "stdout",
     "output_type": "stream",
     "text": [
      "训练集的数据个数: 60000\n",
      "验证集的数据个数: 10000\n"
     ]
    }
   ],
   "source": [
    "from torchvision.datasets import MNIST\n",
    "import torchvision.transforms as transforms\n",
    "from utils.DatasetUtils import DatasetUtils\n",
    "\n",
    "data_utils= DatasetUtils()\n",
    "\n",
    "# 加载数据集\n",
    "transform = transforms.Compose([\n",
    "    transforms.ToTensor(),\n",
    "    transforms.Normalize((0.5,), (0.5,))\n",
    "])\n",
    "\n",
    "train_dataset = MNIST(root='./data', train=True, download=True, transform=transform)\n",
    "eval_dataset = MNIST(root='./data', train=False, download=True, transform=transform)\n",
    "\n",
    "print(f\"训练集的数据个数: {len(train_dataset)}\")\n",
    "print(f\"验证集的数据个数: {len(eval_dataset)}\")"
   ]
  },
  {
   "cell_type": "code",
   "execution_count": null,
   "metadata": {},
   "outputs": [],
   "source": [
    "# 查看数据集的样例\n",
    "\n",
    "data_utils.show_image_simple(train_dataset,count=4)"
   ]
  },
  {
   "cell_type": "code",
   "execution_count": 2,
   "metadata": {},
   "outputs": [
    {
     "name": "stdout",
     "output_type": "stream",
     "text": [
      "input_shape=(1, 28, 28)\n",
      "--------------------------------------------------------------------------\n",
      "Layer (type)                            Output Shape              Param #\n",
      "==========================================================================\n",
      "PositionalEncoding-1                        [-1, 64]                    0\n",
      "Linear-2                                    [-1, 32]                2,080\n",
      "SiLU-3                                      [-1, 32]                    0\n",
      "Linear-4                                    [-1, 64]                2,112\n",
      "Embedding-5                                 [-1, 32]                  320\n",
      "SiLU-6                                      [-1, 32]                    0\n",
      "Linear-7                                    [-1, 64]                2,112\n",
      "Identity-8                                 [-1, 128]                    0\n",
      "Conv2d-9                            [-1, 32, 28, 28]                  320\n",
      "GELU-10                             [-1, 32, 28, 28]                    0\n",
      "GroupNorm-11                        [-1, 32, 28, 28]                   64\n",
      "Conv2d-12                           [-1, 32, 28, 28]                9,248\n",
      "GroupNorm-13                        [-1, 32, 28, 28]                   64\n",
      "Identity-14                         [-1, 32, 28, 28]                    0\n",
      "Conv2d-15                           [-1, 32, 28, 28]                9,248\n",
      "GELU-16                             [-1, 32, 28, 28]                    0\n",
      "GroupNorm-17                        [-1, 32, 28, 28]                   64\n",
      "SiLU-18                                    [-1, 128]                    0\n",
      "Linear-19                                   [-1, 64]                8,256\n",
      "GroupNorm-20                        [-1, 32, 28, 28]                   64\n",
      "Conv2d-21                           [-1, 32, 28, 28]                9,248\n",
      "GroupNorm-22                        [-1, 32, 28, 28]                   64\n",
      "MaxPool2d-23                        [-1, 32, 14, 14]                    0\n",
      "Conv2d-24                           [-1, 64, 14, 14]                2,112\n",
      "Conv2d-25                           [-1, 64, 14, 14]               18,496\n",
      "GELU-26                             [-1, 64, 14, 14]                    0\n",
      "GroupNorm-27                        [-1, 64, 14, 14]                  128\n",
      "SiLU-28                                    [-1, 128]                    0\n",
      "Linear-29                                  [-1, 128]               16,512\n",
      "GroupNorm-30                        [-1, 64, 14, 14]                  128\n",
      "Conv2d-31                           [-1, 64, 14, 14]               36,928\n",
      "GroupNorm-32                        [-1, 64, 14, 14]                  128\n",
      "Conv2d-33                           [-1, 64, 14, 14]               36,928\n",
      "GELU-34                             [-1, 64, 14, 14]                    0\n",
      "GroupNorm-35                        [-1, 64, 14, 14]                  128\n",
      "Conv2d-36                           [-1, 64, 14, 14]               36,928\n",
      "GroupNorm-37                        [-1, 64, 14, 14]                  128\n",
      "GroupNorm-38                        [-1, 64, 14, 14]                  128\n",
      "MultiheadAttention-39                    [-1, 2, 64]               16,640\n",
      "MaxPool2d-40                          [-1, 64, 7, 7]                    0\n",
      "Conv2d-41                            [-1, 128, 7, 7]                8,320\n",
      "Conv2d-42                            [-1, 128, 7, 7]               73,856\n",
      "GELU-43                              [-1, 128, 7, 7]                    0\n",
      "GroupNorm-44                         [-1, 128, 7, 7]                  256\n",
      "SiLU-45                                    [-1, 128]                    0\n",
      "Linear-46                                  [-1, 256]               33,024\n",
      "GroupNorm-47                         [-1, 128, 7, 7]                  256\n",
      "Conv2d-48                            [-1, 128, 7, 7]              147,584\n",
      "GroupNorm-49                         [-1, 128, 7, 7]                  256\n",
      "Conv2d-50                            [-1, 128, 7, 7]              147,584\n",
      "GELU-51                              [-1, 128, 7, 7]                    0\n",
      "GroupNorm-52                         [-1, 128, 7, 7]                  256\n",
      "Conv2d-53                            [-1, 128, 7, 7]              147,584\n",
      "GroupNorm-54                         [-1, 128, 7, 7]                  256\n",
      "GroupNorm-55                         [-1, 128, 7, 7]                  256\n",
      "MultiheadAttention-56                   [-1, 2, 128]               66,048\n",
      "Conv2d-57                            [-1, 128, 7, 7]              147,584\n",
      "GELU-58                              [-1, 128, 7, 7]                    0\n",
      "GroupNorm-59                         [-1, 128, 7, 7]                  256\n",
      "Conv2d-60                            [-1, 128, 7, 7]              147,584\n",
      "GroupNorm-61                         [-1, 128, 7, 7]                  256\n",
      "Conv2d-62                            [-1, 128, 7, 7]              147,584\n",
      "GELU-63                              [-1, 128, 7, 7]                    0\n",
      "GroupNorm-64                         [-1, 128, 7, 7]                  256\n",
      "Conv2d-65                            [-1, 128, 7, 7]              147,584\n",
      "GroupNorm-66                         [-1, 128, 7, 7]                  256\n",
      "Conv2d-67                            [-1, 128, 7, 7]              147,584\n",
      "GELU-68                              [-1, 128, 7, 7]                    0\n",
      "GroupNorm-69                         [-1, 128, 7, 7]                  256\n",
      "Conv2d-70                            [-1, 128, 7, 7]              147,584\n",
      "GroupNorm-71                         [-1, 128, 7, 7]                  256\n",
      "ConvTranspose2d-72                  [-1, 64, 14, 14]               32,832\n",
      "Conv2d-73                           [-1, 64, 14, 14]                8,256\n",
      "Conv2d-74                           [-1, 64, 14, 14]               73,792\n",
      "GELU-75                             [-1, 64, 14, 14]                    0\n",
      "GroupNorm-76                        [-1, 64, 14, 14]                  128\n",
      "SiLU-77                                    [-1, 128]                    0\n",
      "Linear-78                                  [-1, 128]               16,512\n",
      "GroupNorm-79                        [-1, 64, 14, 14]                  128\n",
      "Conv2d-80                           [-1, 64, 14, 14]               36,928\n",
      "GroupNorm-81                        [-1, 64, 14, 14]                  128\n",
      "Conv2d-82                           [-1, 64, 14, 14]               36,928\n",
      "GELU-83                             [-1, 64, 14, 14]                    0\n",
      "GroupNorm-84                        [-1, 64, 14, 14]                  128\n",
      "Conv2d-85                           [-1, 64, 14, 14]               36,928\n",
      "GroupNorm-86                        [-1, 64, 14, 14]                  128\n",
      "GroupNorm-87                        [-1, 64, 14, 14]                  128\n",
      "MultiheadAttention-88                    [-1, 2, 64]               16,640\n",
      "ConvTranspose2d-89                  [-1, 32, 28, 28]                8,224\n",
      "Conv2d-90                           [-1, 32, 28, 28]                2,080\n",
      "Conv2d-91                           [-1, 32, 28, 28]               18,464\n",
      "GELU-92                             [-1, 32, 28, 28]                    0\n",
      "GroupNorm-93                        [-1, 32, 28, 28]                   64\n",
      "SiLU-94                                    [-1, 128]                    0\n",
      "Linear-95                                   [-1, 64]                8,256\n",
      "GroupNorm-96                        [-1, 32, 28, 28]                   64\n",
      "Conv2d-97                           [-1, 32, 28, 28]                9,248\n",
      "GroupNorm-98                        [-1, 32, 28, 28]                   64\n",
      "Conv2d-99                           [-1, 32, 28, 28]                9,248\n",
      "GELU-100                            [-1, 32, 28, 28]                    0\n",
      "GroupNorm-101                       [-1, 32, 28, 28]                   64\n",
      "Conv2d-102                          [-1, 32, 28, 28]                9,248\n",
      "GroupNorm-103                       [-1, 32, 28, 28]                   64\n",
      "GroupNorm-104                       [-1, 32, 28, 28]                   64\n",
      "MultiheadAttention-105                   [-1, 2, 32]                4,224\n",
      "Identity-106                        [-1, 32, 28, 28]                    0\n",
      "Conv2d-107                          [-1, 32, 28, 28]                9,248\n",
      "GELU-108                            [-1, 32, 28, 28]                    0\n",
      "GroupNorm-109                       [-1, 32, 28, 28]                   64\n",
      "SiLU-110                                   [-1, 128]                    0\n",
      "Linear-111                                  [-1, 64]                8,256\n",
      "GroupNorm-112                       [-1, 32, 28, 28]                   64\n",
      "Conv2d-113                          [-1, 32, 28, 28]                9,248\n",
      "GroupNorm-114                       [-1, 32, 28, 28]                   64\n",
      "Conv2d-115                           [-1, 1, 28, 28]                   33\n",
      "==========================================================================\n",
      "Total params: 2,077,089\n",
      "Trainable params: 2,077,089\n",
      "Non-trainable params: 0\n",
      "--------------------------------------------------------------------------\n",
      "Input size (MB): 0.002991\n",
      "Forward/backward pass size (MB): 10.337036\n",
      "Params size (MB): 7.923466\n",
      "Estimated Total Size (MB): 18.263493\n",
      "--------------------------------------------------------------------------\n"
     ]
    },
    {
     "name": "stderr",
     "output_type": "stream",
     "text": [
      "d:\\Code\\VSCode-code\\python\\RFID_Classify\\.venv\\Lib\\site-packages\\tqdm\\auto.py:21: TqdmWarning: IProgress not found. Please update jupyter and ipywidgets. See https://ipywidgets.readthedocs.io/en/stable/user_install.html\n",
      "  from .autonotebook import tqdm as notebook_tqdm\n"
     ]
    }
   ],
   "source": [
    "# 模型组网\n",
    "\n",
    "import torch\n",
    "from model.BetaScheduler import LinearBetaScheduler\n",
    "from model.UNet import UNet\n",
    "from model.CD_Model import CD_Model\n",
    "from utils.ModelWorker.CDModelWorker import CDModelWorker\n",
    "from torchkeras import summary\n",
    "\n",
    "input_shape=data_utils.get_data_shape(train_dataset)\n",
    "\n",
    "model=CD_Model(\n",
    "    UNet(\n",
    "        input_shape=input_shape,\n",
    "        init_features=32,\n",
    "        num_classes=10,\n",
    "        embed_dim=128\n",
    "    ),\n",
    "    LinearBetaScheduler()\n",
    ")\n",
    "\n",
    "model_worker=CDModelWorker(model)\n",
    "\n",
    "print(f\"{input_shape=}\")\n",
    "\n",
    "time=torch.tensor([0],dtype=torch.long)\n",
    "condition=torch.tensor([0],dtype=torch.long)\n",
    "model_info=summary(model,input_shape=input_shape,time=time,condition=condition)"
   ]
  },
  {
   "cell_type": "code",
   "execution_count": null,
   "metadata": {},
   "outputs": [],
   "source": [
    "# 模型准备\n",
    "from torch.utils.data import DataLoader\n",
    "from torch import nn\n",
    "from torch import optim\n",
    "\n",
    "train_loader = DataLoader(train_dataset, batch_size=64, shuffle=True)\n",
    "eval_loader = DataLoader(eval_dataset, batch_size=64)\n",
    "\n",
    "loss = nn.MSELoss()\n",
    "optimizer = optim.Adam(model.parameters(), lr=0.001)\n"
   ]
  },
  {
   "cell_type": "code",
   "execution_count": null,
   "metadata": {},
   "outputs": [],
   "source": [
    "# 模型训练\n",
    "\n",
    "model_worker.train(\n",
    "    criterion=loss,\n",
    "    optimizer=optimizer,\n",
    "    train_loader=train_loader,\n",
    "    eval_loader=eval_loader,\n",
    "    epochs=10,\n",
    ")"
   ]
  },
  {
   "cell_type": "code",
   "execution_count": null,
   "metadata": {},
   "outputs": [],
   "source": [
    "# 模型评估\n",
    "\n",
    "model_worker.evaluate(\n",
    "    eval_loader=eval_loader,\n",
    "    criterion=loss,\n",
    ")"
   ]
  },
  {
   "cell_type": "code",
   "execution_count": null,
   "metadata": {},
   "outputs": [],
   "source": [
    "# 保存模型\n",
    "model_worker.save('./output/HDR_CD_model/HDR_CD_model.pth')"
   ]
  },
  {
   "cell_type": "code",
   "execution_count": 3,
   "metadata": {},
   "outputs": [],
   "source": [
    "# 加载模型\n",
    "model_worker.load('./output/HDR_CD_model/HDR_CD_model.pth')"
   ]
  },
  {
   "cell_type": "code",
   "execution_count": null,
   "metadata": {},
   "outputs": [],
   "source": [
    "datas=model_worker.generate_sample(count=16,condition=1,add_noise=True)"
   ]
  },
  {
   "cell_type": "code",
   "execution_count": null,
   "metadata": {},
   "outputs": [],
   "source": [
    "datas=datas.cpu()\n",
    "data_utils.show_image_batch(datas)"
   ]
  }
 ],
 "metadata": {
  "kernelspec": {
   "display_name": ".venv",
   "language": "python",
   "name": "python3"
  },
  "language_info": {
   "codemirror_mode": {
    "name": "ipython",
    "version": 3
   },
   "file_extension": ".py",
   "mimetype": "text/x-python",
   "name": "python",
   "nbconvert_exporter": "python",
   "pygments_lexer": "ipython3",
   "version": "3.12.7"
  }
 },
 "nbformat": 4,
 "nbformat_minor": 2
}
