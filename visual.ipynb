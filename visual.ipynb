{
 "cells": [
  {
   "cell_type": "markdown",
   "id": "29340cf2",
   "metadata": {},
   "source": [
    "### 可视化"
   ]
  },
  {
   "cell_type": "code",
   "execution_count": null,
   "id": "559a9335",
   "metadata": {},
   "outputs": [],
   "source": [
    "from utils.RFID_Dataset import RFID_Dataset\n",
    "\n",
    "# 训练集\n",
    "train_dataset=RFID_Dataset(\n",
    "    r\"data\\RFID\\dataset\\temp\",\n",
    "    T=32,\n",
    "    step=1,\n",
    "    transform=None,\n",
    ")\n",
    "print(f\"训练集的数据个数: {len(train_dataset)}\")"
   ]
  },
  {
   "cell_type": "code",
   "execution_count": null,
   "id": "6cd2dfa3",
   "metadata": {},
   "outputs": [],
   "source": [
    "from utils.RFID_Dataset import RFID_Dataset\n",
    "\n",
    "# 测试集\n",
    "test_dataset=RFID_Dataset(\n",
    "    r\"./output/data\",\n",
    "    T=32,\n",
    "    step=1,\n",
    "    transform=None,\n",
    ")\n",
    "print(f\"测试集的数据个数: {len(test_dataset)}\")"
   ]
  },
  {
   "cell_type": "code",
   "execution_count": null,
   "id": "87c8699a",
   "metadata": {},
   "outputs": [],
   "source": [
    "from utils.FeatureUtils import *\n",
    "\n",
    "# 降维\n",
    "pca = get_pca_model(train_dataset.datas, target=2)\n",
    "\n",
    "train_output = use_pca_model(pca, train_dataset.datas)\n",
    "test_output = use_pca_model(pca, test_dataset.datas)"
   ]
  },
  {
   "cell_type": "code",
   "execution_count": null,
   "id": "d1ec75b6",
   "metadata": {},
   "outputs": [],
   "source": [
    "from utils.DataUtils.Visualization import plot_classes_scatter\n",
    "\n",
    "plot_classes_scatter(train_output, train_dataset.labels,title=\"Train Data\")\n",
    "plot_classes_scatter(test_output, test_dataset.labels,title=\"Test Data\")"
   ]
  },
  {
   "cell_type": "code",
   "execution_count": null,
   "id": "f5e6500a",
   "metadata": {},
   "outputs": [],
   "source": [
    "import numpy as np\n",
    "\n",
    "# 数据分布对比\n",
    "datas=np.concatenate([train_output,test_output],axis=0)\n",
    "temp_labels=(test_dataset.labels)+3\n",
    "labels=np.concatenate([train_dataset.labels,temp_labels],axis=0)\n",
    "plot_classes_scatter(datas,labels)"
   ]
  }
 ],
 "metadata": {
  "kernelspec": {
   "display_name": ".venv",
   "language": "python",
   "name": "python3"
  },
  "language_info": {
   "name": "python",
   "version": "3.12.7"
  }
 },
 "nbformat": 4,
 "nbformat_minor": 5
}
