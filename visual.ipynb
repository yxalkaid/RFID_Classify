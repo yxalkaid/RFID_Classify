{
 "cells": [
  {
   "cell_type": "markdown",
   "id": "29340cf2",
   "metadata": {},
   "source": [
    "### 可视化"
   ]
  },
  {
   "cell_type": "code",
   "execution_count": null,
   "id": "f94150f6",
   "metadata": {},
   "outputs": [],
   "source": [
    "from torchvision import transforms\n",
    "from utils.Normalization import MinMaxNorm,LogarithmicNorm\n",
    "\n",
    "transform=transforms.Compose([\n",
    "    # MinMaxNorm(min_value=-128, max_value=128),\n",
    "    # LogarithmicNorm(min_value=-128, max_value=128),\n",
    "])\n",
    "# transform=None"
   ]
  },
  {
   "cell_type": "code",
   "execution_count": null,
   "id": "559a9335",
   "metadata": {},
   "outputs": [],
   "source": [
    "from utils.RFID_Dataset import RFID_Dataset\n",
    "\n",
    "# 训练集\n",
    "train_dataset=RFID_Dataset(\n",
    "    r\"data\\RFID\\new_dataset\\train\",\n",
    "    T=32,\n",
    "    step=1,\n",
    "    transform=transform,\n",
    ")\n",
    "print(f\"训练集的数据个数: {len(train_dataset)}\")"
   ]
  },
  {
   "cell_type": "code",
   "execution_count": null,
   "id": "6cd2dfa3",
   "metadata": {},
   "outputs": [],
   "source": [
    "from utils.RFID_Dataset import RFID_Dataset\n",
    "\n",
    "# 测试集\n",
    "test_dataset=RFID_Dataset(\n",
    "    r\"data\\RFID\\new_dataset\\eval\",\n",
    "    T=32,\n",
    "    step=1,\n",
    "    transform=transform,\n",
    ")\n",
    "print(f\"测试集的数据个数: {len(test_dataset)}\")"
   ]
  },
  {
   "cell_type": "code",
   "execution_count": null,
   "id": "73f83dab",
   "metadata": {},
   "outputs": [],
   "source": [
    "datas,_=train_dataset[:]\n",
    "\n",
    "mean_values=datas.mean(dim=0)\n",
    "mean_values=mean_values.mean(dim=1)\n",
    "print(mean_values)\n",
    "\n",
    "std_values=datas.std(dim=0)\n",
    "std_values=std_values.std(dim=1)\n",
    "print(std_values)"
   ]
  },
  {
   "cell_type": "code",
   "execution_count": null,
   "id": "87c8699a",
   "metadata": {},
   "outputs": [],
   "source": [
    "from utils.FeatureUtils import *\n",
    "\n",
    "train_input,_=train_dataset[:]\n",
    "test_input,_=test_dataset[:]\n",
    "\n",
    "# 降维\n",
    "pca = get_pca_model(train_input, target=2)\n",
    "\n",
    "train_output = use_pca_model(pca, train_input)\n",
    "test_output = use_pca_model(pca, test_input)"
   ]
  },
  {
   "cell_type": "code",
   "execution_count": null,
   "id": "a274df64",
   "metadata": {},
   "outputs": [],
   "source": [
    "# PCA降维\n",
    "\n",
    "train_output=pca_reduce(train_input)\n",
    "test_output=pca_reduce(test_input)"
   ]
  },
  {
   "cell_type": "code",
   "execution_count": null,
   "id": "08ab917c",
   "metadata": {},
   "outputs": [],
   "source": [
    "# TSNE降维\n",
    "\n",
    "train_output=tsne_reduce(train_input)\n",
    "test_output=tsne_reduce(test_input)"
   ]
  },
  {
   "cell_type": "code",
   "execution_count": null,
   "id": "d1ec75b6",
   "metadata": {},
   "outputs": [],
   "source": [
    "from utils.DataUtils.Visualization import plot_classes_scatter\n",
    "\n",
    "plot_classes_scatter(train_output, train_dataset.labels,title=\"Train Data\")\n",
    "plot_classes_scatter(test_output, test_dataset.labels,title=\"Test Data\")"
   ]
  },
  {
   "cell_type": "code",
   "execution_count": null,
   "id": "f5e6500a",
   "metadata": {},
   "outputs": [],
   "source": [
    "from utils.DataUtils.Visualization import plot_classes_scatter\n",
    "import numpy as np\n",
    "\n",
    "# 数据分布对比\n",
    "datas=np.concatenate([train_output,test_output],axis=0)\n",
    "temp_labels=(test_dataset.labels)+3\n",
    "labels=np.concatenate([train_dataset.labels,temp_labels],axis=0)\n",
    "plot_classes_scatter(datas,labels)"
   ]
  }
 ],
 "metadata": {
  "kernelspec": {
   "display_name": ".venv",
   "language": "python",
   "name": "python3"
  },
  "language_info": {
   "codemirror_mode": {
    "name": "ipython",
    "version": 3
   },
   "file_extension": ".py",
   "mimetype": "text/x-python",
   "name": "python",
   "nbconvert_exporter": "python",
   "pygments_lexer": "ipython3",
   "version": "3.12.7"
  }
 },
 "nbformat": 4,
 "nbformat_minor": 5
}
