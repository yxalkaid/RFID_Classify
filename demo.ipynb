{
 "cells": [
  {
   "cell_type": "code",
   "execution_count": 6,
   "metadata": {},
   "outputs": [],
   "source": [
    "import pandas as pd\n",
    "\n",
    "# 定义 shape\n",
    "shape = (3, 32, 12)\n",
    "\n",
    "# 生成符合要求的数据\n",
    "data=[]\n",
    "for row in range(1,36+1):\n",
    "    line=[]\n",
    "    row_num=row*1000\n",
    "    for a in range(1,shape[0]+1):\n",
    "        a_num=a*100\n",
    "        for b in range(1,shape[2]+1):\n",
    "            line.append(row_num+a_num+b)\n",
    "    data.append(line)\n",
    "\n",
    "# 将数据写入 CSV 文件\n",
    "df = pd.DataFrame(data)\n",
    "df.to_csv('output.csv')"
   ]
  }
 ],
 "metadata": {
  "kernelspec": {
   "display_name": ".venv",
   "language": "python",
   "name": "python3"
  },
  "language_info": {
   "codemirror_mode": {
    "name": "ipython",
    "version": 3
   },
   "file_extension": ".py",
   "mimetype": "text/x-python",
   "name": "python",
   "nbconvert_exporter": "python",
   "pygments_lexer": "ipython3",
   "version": "3.12.7"
  }
 },
 "nbformat": 4,
 "nbformat_minor": 2
}
