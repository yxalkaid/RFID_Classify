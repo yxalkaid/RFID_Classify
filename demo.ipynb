{
 "cells": [
  {
   "cell_type": "code",
   "execution_count": 6,
   "metadata": {},
   "outputs": [],
   "source": [
    "import pandas as pd\n",
    "import numpy as np\n",
    "\n",
    "def augment_csv(\n",
    "    input_path,\n",
    "    output_path,\n",
    "    scale_range=(0.9, 1.1),\n",
    "    add_noise=False,\n",
    "    noise_std=0.05\n",
    "):\n",
    "    \"\"\"\n",
    "    对CSV文件的时间序列数据进行增强，包含随机缩放和可选的噪声添加。\n",
    "\n",
    "    参数:\n",
    "    input_file (str): 输入CSV文件路径\n",
    "    output_file (str): 输出增强后的CSV文件路径\n",
    "    scale_range (tuple): 随机缩放因子的范围（例如 (0.8, 1.2)）\n",
    "    add_noise (bool): 是否添加高斯噪声\n",
    "    noise_std (float): 噪声标准差相对于特征标准差的比例（例如 0.05 表示5%）\n",
    "    \"\"\"\n",
    "    # 读取数据\n",
    "    df = pd.read_csv(input_path)\n",
    "    time_col = df['time']\n",
    "    features = df.drop(columns=['time'])\n",
    "    \n",
    "    # 随机缩放每个特征列\n",
    "    scale_factors = np.random.uniform(\n",
    "        low=scale_range[0],\n",
    "        high=scale_range[1],\n",
    "        size=features.shape[1]\n",
    "    )\n",
    "    augmented = features * scale_factors\n",
    "    \n",
    "    # 添加噪声\n",
    "    if add_noise:\n",
    "        stds = features.std().values\n",
    "        noise = np.random.normal(\n",
    "            loc=0,\n",
    "            scale=noise_std * stds,\n",
    "            size=features.shape\n",
    "        )\n",
    "        augmented += noise\n",
    "    \n",
    "    augmented=augmented.round(2)\n",
    "    \n",
    "    # 合并时间列并保存\n",
    "    augmented_df = pd.concat([time_col, augmented], axis=1)\n",
    "    augmented_df.to_csv(output_path, index=False)"
   ]
  },
  {
   "cell_type": "code",
   "execution_count": 19,
   "metadata": {},
   "outputs": [],
   "source": [
    "input_path = r\"data\\RFID\\dataset\\all\\2\\行走001.csv\"\n",
    "output_path = input_path.replace(\".csv\", \"_aug02.csv\")\n",
    "\n",
    "augment_csv(\n",
    "    input_path,\n",
    "    output_path,\n",
    "    scale_range=(0.95, 1.05),\n",
    "    add_noise=True,\n",
    ")"
   ]
  }
 ],
 "metadata": {
  "kernelspec": {
   "display_name": ".venv",
   "language": "python",
   "name": "python3"
  },
  "language_info": {
   "codemirror_mode": {
    "name": "ipython",
    "version": 3
   },
   "file_extension": ".py",
   "mimetype": "text/x-python",
   "name": "python",
   "nbconvert_exporter": "python",
   "pygments_lexer": "ipython3",
   "version": "3.12.7"
  }
 },
 "nbformat": 4,
 "nbformat_minor": 2
}
