{
 "cells": [
  {
   "cell_type": "code",
   "execution_count": 2,
   "metadata": {},
   "outputs": [],
   "source": [
    "import torch\n",
    "from torch import nn\n",
    "from torchkeras import summary\n",
    "\n",
    "from model.EmbeddingBlock import EmbeddingBlock\n",
    "from model.Block import ConvBlock, DownSample, UpSample\n",
    "\n",
    "input_shape=(1, 28, 28)\n",
    "init_features=64\n",
    "num_classes=6\n",
    "embed_dim=128\n",
    "init_features=64\n",
    "\n",
    "in_channels = input_shape[0]\n",
    "out_channels = input_shape[0]\n",
    "features = init_features\n",
    "\n",
    "x=torch.randn(1, *input_shape)\n",
    "time=torch.tensor([1])\n",
    "condition=torch.tensor([0])"
   ]
  },
  {
   "cell_type": "code",
   "execution_count": 3,
   "metadata": {},
   "outputs": [
    {
     "name": "stdout",
     "output_type": "stream",
     "text": [
      "--------------------------------------------------------------------------\n",
      "Layer (type)                            Output Shape              Param #\n",
      "==========================================================================\n",
      "PositionalEncoding-1                       [-1, 128]                    0\n",
      "Linear-2                                   [-1, 128]               16,512\n",
      "SiLU-3                                     [-1, 128]                    0\n",
      "Linear-4                                   [-1, 128]               16,512\n",
      "Embedding-5                                [-1, 128]                  768\n",
      "Linear-6                                   [-1, 128]               16,512\n",
      "SiLU-7                                     [-1, 128]                    0\n",
      "Linear-8                                   [-1, 128]               16,512\n",
      "Linear-9                                   [-1, 128]               32,896\n",
      "==========================================================================\n",
      "Total params: 99,712\n",
      "Trainable params: 99,712\n",
      "Non-trainable params: 0\n",
      "--------------------------------------------------------------------------\n",
      "Input size (MB): 0.000000\n",
      "Forward/backward pass size (MB): 0.008789\n",
      "Params size (MB): 0.380371\n",
      "Estimated Total Size (MB): 0.389160\n",
      "--------------------------------------------------------------------------\n"
     ]
    }
   ],
   "source": [
    "embedder = EmbeddingBlock(embed_dim, embed_dim, num_classes)\n",
    "embed=embedder(time,condition)\n",
    "\n",
    "info=summary(embedder,time=time,condition=condition)"
   ]
  },
  {
   "cell_type": "code",
   "execution_count": 4,
   "metadata": {},
   "outputs": [
    {
     "name": "stdout",
     "output_type": "stream",
     "text": [
      "--------------------------------------------------------------------------\n",
      "Layer (type)                            Output Shape              Param #\n",
      "==========================================================================\n",
      "Conv2d-1                            [-1, 64, 28, 28]                  640\n",
      "GELU-2                              [-1, 64, 28, 28]                    0\n",
      "GroupNorm-3                         [-1, 64, 28, 28]                  128\n",
      "Conv2d-4                            [-1, 64, 28, 28]               36,928\n",
      "GroupNorm-5                         [-1, 64, 28, 28]                  128\n",
      "==========================================================================\n",
      "Total params: 37,824\n",
      "Trainable params: 37,824\n",
      "Non-trainable params: 0\n",
      "--------------------------------------------------------------------------\n",
      "Input size (MB): 0.000076\n",
      "Forward/backward pass size (MB): 1.914062\n",
      "Params size (MB): 0.144287\n",
      "Estimated Total Size (MB): 2.058426\n",
      "--------------------------------------------------------------------------\n"
     ]
    }
   ],
   "source": [
    "head_conv = ConvBlock(in_channels, features)\n",
    "init_x=head_conv(x)\n",
    "\n",
    "info=summary(head_conv,input_data=x)"
   ]
  },
  {
   "cell_type": "code",
   "execution_count": 5,
   "metadata": {},
   "outputs": [
    {
     "name": "stdout",
     "output_type": "stream",
     "text": [
      "--------------------------------------------------------------------------\n",
      "Layer (type)                            Output Shape              Param #\n",
      "==========================================================================\n",
      "MaxPool2d-1                         [-1, 64, 14, 14]                    0\n",
      "Conv2d-2                           [-1, 128, 14, 14]                8,320\n",
      "GroupNorm-3                         [-1, 64, 14, 14]                  128\n",
      "SiLU-4                              [-1, 64, 14, 14]                    0\n",
      "Conv2d-5                           [-1, 128, 14, 14]               73,856\n",
      "Linear-6                                   [-1, 256]               33,024\n",
      "GroupNorm-7                        [-1, 128, 14, 14]                  256\n",
      "SiLU-8                             [-1, 128, 14, 14]                    0\n",
      "Conv2d-9                           [-1, 128, 14, 14]              147,584\n",
      "Conv2d-10                          [-1, 128, 14, 14]              147,584\n",
      "GELU-11                            [-1, 128, 14, 14]                    0\n",
      "GroupNorm-12                       [-1, 128, 14, 14]                  256\n",
      "Conv2d-13                          [-1, 128, 14, 14]              147,584\n",
      "GroupNorm-14                       [-1, 128, 14, 14]                  256\n",
      "GroupNorm-15                       [-1, 128, 14, 14]                  256\n",
      "MultiheadAttention-16                 [-1, 196, 128]               66,048\n",
      "==========================================================================\n",
      "Total params: 625,152\n",
      "Trainable params: 625,152\n",
      "Non-trainable params: 0\n",
      "--------------------------------------------------------------------------\n",
      "Input size (MB): 0.000076\n",
      "Forward/backward pass size (MB): 2.585938\n",
      "Params size (MB): 2.384766\n",
      "Estimated Total Size (MB): 4.970779\n",
      "--------------------------------------------------------------------------\n"
     ]
    }
   ],
   "source": [
    "encoder01 = DownSample(features, features * 2, embed_dim)\n",
    "enc01_x = encoder01(init_x, embed)\n",
    "\n",
    "info=summary(encoder01,input_data=init_x,embed=embed)"
   ]
  },
  {
   "cell_type": "code",
   "execution_count": 7,
   "metadata": {},
   "outputs": [
    {
     "name": "stdout",
     "output_type": "stream",
     "text": [
      "--------------------------------------------------------------------------\n",
      "Layer (type)                            Output Shape              Param #\n",
      "==========================================================================\n",
      "MaxPool2d-1                          [-1, 128, 7, 7]                    0\n",
      "Conv2d-2                             [-1, 256, 7, 7]               33,024\n",
      "GroupNorm-3                          [-1, 128, 7, 7]                  256\n",
      "SiLU-4                               [-1, 128, 7, 7]                    0\n",
      "Conv2d-5                             [-1, 256, 7, 7]              295,168\n",
      "Linear-6                                   [-1, 512]               66,048\n",
      "GroupNorm-7                          [-1, 256, 7, 7]                  512\n",
      "SiLU-8                               [-1, 256, 7, 7]                    0\n",
      "Conv2d-9                             [-1, 256, 7, 7]              590,080\n",
      "Conv2d-10                            [-1, 256, 7, 7]              590,080\n",
      "GELU-11                              [-1, 256, 7, 7]                    0\n",
      "GroupNorm-12                         [-1, 256, 7, 7]                  512\n",
      "Conv2d-13                            [-1, 256, 7, 7]              590,080\n",
      "GroupNorm-14                         [-1, 256, 7, 7]                  512\n",
      "GroupNorm-15                         [-1, 256, 7, 7]                  512\n",
      "MultiheadAttention-16                  [-1, 49, 256]              263,168\n",
      "==========================================================================\n",
      "Total params: 2,429,952\n",
      "Trainable params: 2,429,952\n",
      "Non-trainable params: 0\n",
      "--------------------------------------------------------------------------\n",
      "Input size (MB): 0.000076\n",
      "Forward/backward pass size (MB): 1.295898\n",
      "Params size (MB): 9.269531\n",
      "Estimated Total Size (MB): 10.565506\n",
      "--------------------------------------------------------------------------\n"
     ]
    }
   ],
   "source": [
    "encoder02 = DownSample(features * 2, features * 4, embed_dim)\n",
    "enc02_x=encoder02(enc01_x, embed)\n",
    "\n",
    "info=summary(encoder02,input_data=enc01_x,embed=embed)"
   ]
  },
  {
   "cell_type": "code",
   "execution_count": 8,
   "metadata": {},
   "outputs": [
    {
     "name": "stdout",
     "output_type": "stream",
     "text": [
      "--------------------------------------------------------------------------\n",
      "Layer (type)                            Output Shape              Param #\n",
      "==========================================================================\n",
      "Conv2d-1                             [-1, 256, 7, 7]              590,080\n",
      "GELU-2                               [-1, 256, 7, 7]                    0\n",
      "GroupNorm-3                          [-1, 256, 7, 7]                  512\n",
      "Conv2d-4                             [-1, 256, 7, 7]              590,080\n",
      "GroupNorm-5                          [-1, 256, 7, 7]                  512\n",
      "Conv2d-6                             [-1, 256, 7, 7]              590,080\n",
      "GELU-7                               [-1, 256, 7, 7]                    0\n",
      "GroupNorm-8                          [-1, 256, 7, 7]                  512\n",
      "Conv2d-9                             [-1, 256, 7, 7]              590,080\n",
      "GroupNorm-10                         [-1, 256, 7, 7]                  512\n",
      "Conv2d-11                            [-1, 256, 7, 7]              590,080\n",
      "GELU-12                              [-1, 256, 7, 7]                    0\n",
      "GroupNorm-13                         [-1, 256, 7, 7]                  512\n",
      "Conv2d-14                            [-1, 256, 7, 7]              590,080\n",
      "GroupNorm-15                         [-1, 256, 7, 7]                  512\n",
      "==========================================================================\n",
      "Total params: 3,543,552\n",
      "Trainable params: 3,543,552\n",
      "Non-trainable params: 0\n",
      "--------------------------------------------------------------------------\n",
      "Input size (MB): 0.000076\n",
      "Forward/backward pass size (MB): 1.435547\n",
      "Params size (MB): 13.517578\n",
      "Estimated Total Size (MB): 14.953201\n",
      "--------------------------------------------------------------------------\n"
     ]
    }
   ],
   "source": [
    "bottleneck = nn.Sequential(\n",
    "    ConvBlock(features * 4, features * 4),\n",
    "    ConvBlock(features * 4, features * 4),\n",
    "    ConvBlock(features * 4, features * 4),\n",
    ")\n",
    "bot_x=bottleneck(enc02_x)\n",
    "\n",
    "info=summary(bottleneck,input_data=enc02_x)"
   ]
  },
  {
   "cell_type": "code",
   "execution_count": 9,
   "metadata": {},
   "outputs": [
    {
     "name": "stdout",
     "output_type": "stream",
     "text": [
      "--------------------------------------------------------------------------\n",
      "Layer (type)                            Output Shape              Param #\n",
      "==========================================================================\n",
      "ConvTranspose2d-1                  [-1, 128, 14, 14]              131,200\n",
      "Conv2d-2                           [-1, 128, 14, 14]               32,896\n",
      "GroupNorm-3                        [-1, 256, 14, 14]                  512\n",
      "SiLU-4                             [-1, 256, 14, 14]                    0\n",
      "Conv2d-5                           [-1, 128, 14, 14]              295,040\n",
      "Linear-6                                   [-1, 256]               33,024\n",
      "GroupNorm-7                        [-1, 128, 14, 14]                  256\n",
      "SiLU-8                             [-1, 128, 14, 14]                    0\n",
      "Conv2d-9                           [-1, 128, 14, 14]              147,584\n",
      "Conv2d-10                          [-1, 128, 14, 14]              147,584\n",
      "GELU-11                            [-1, 128, 14, 14]                    0\n",
      "GroupNorm-12                       [-1, 128, 14, 14]                  256\n",
      "Conv2d-13                          [-1, 128, 14, 14]              147,584\n",
      "GroupNorm-14                       [-1, 128, 14, 14]                  256\n",
      "GroupNorm-15                       [-1, 128, 14, 14]                  256\n",
      "MultiheadAttention-16                 [-1, 196, 128]               66,048\n",
      "==========================================================================\n",
      "Total params: 1,002,496\n",
      "Trainable params: 1,002,496\n",
      "Non-trainable params: 0\n",
      "--------------------------------------------------------------------------\n",
      "Input size (MB): 0.000076\n",
      "Forward/backward pass size (MB): 3.255859\n",
      "Params size (MB): 3.824219\n",
      "Estimated Total Size (MB): 7.080154\n",
      "--------------------------------------------------------------------------\n"
     ]
    }
   ],
   "source": [
    "decoder02 = UpSample(features * 4, features * 2, embed_dim)\n",
    "dec02_x = decoder02(bot_x,embed,enc01_x)\n",
    "\n",
    "info=summary(decoder02,input_data=bot_x,embed=embed,skip=enc01_x)"
   ]
  },
  {
   "cell_type": "code",
   "execution_count": 10,
   "metadata": {},
   "outputs": [
    {
     "name": "stdout",
     "output_type": "stream",
     "text": [
      "--------------------------------------------------------------------------\n",
      "Layer (type)                            Output Shape              Param #\n",
      "==========================================================================\n",
      "ConvTranspose2d-1                   [-1, 64, 28, 28]               32,832\n",
      "Conv2d-2                            [-1, 64, 28, 28]                8,256\n",
      "GroupNorm-3                        [-1, 128, 28, 28]                  256\n",
      "SiLU-4                             [-1, 128, 28, 28]                    0\n",
      "Conv2d-5                            [-1, 64, 28, 28]               73,792\n",
      "Linear-6                                   [-1, 128]               16,512\n",
      "GroupNorm-7                         [-1, 64, 28, 28]                  128\n",
      "SiLU-8                              [-1, 64, 28, 28]                    0\n",
      "Conv2d-9                            [-1, 64, 28, 28]               36,928\n",
      "Conv2d-10                           [-1, 64, 28, 28]               36,928\n",
      "GELU-11                             [-1, 64, 28, 28]                    0\n",
      "GroupNorm-12                        [-1, 64, 28, 28]                  128\n",
      "Conv2d-13                           [-1, 64, 28, 28]               36,928\n",
      "GroupNorm-14                        [-1, 64, 28, 28]                  128\n",
      "GroupNorm-15                        [-1, 64, 28, 28]                  128\n",
      "MultiheadAttention-16                  [-1, 784, 64]               16,640\n",
      "==========================================================================\n",
      "Total params: 259,584\n",
      "Trainable params: 259,584\n",
      "Non-trainable params: 0\n",
      "--------------------------------------------------------------------------\n",
      "Input size (MB): 0.000076\n",
      "Forward/backward pass size (MB): 6.508789\n",
      "Params size (MB): 0.990234\n",
      "Estimated Total Size (MB): 7.499100\n",
      "--------------------------------------------------------------------------\n"
     ]
    }
   ],
   "source": [
    "decoder01 = UpSample(features * 2, features, embed_dim)\n",
    "dec01_x=decoder01(dec02_x,embed,init_x)\n",
    "\n",
    "info=summary(decoder01,input_data=dec02_x,embed=embed,skip=init_x)"
   ]
  },
  {
   "cell_type": "code",
   "execution_count": 11,
   "metadata": {},
   "outputs": [
    {
     "name": "stdout",
     "output_type": "stream",
     "text": [
      "--------------------------------------------------------------------------\n",
      "Layer (type)                            Output Shape              Param #\n",
      "==========================================================================\n",
      "Conv2d-1                             [-1, 1, 28, 28]                  577\n",
      "==========================================================================\n",
      "Total params: 577\n",
      "Trainable params: 577\n",
      "Non-trainable params: 0\n",
      "--------------------------------------------------------------------------\n",
      "Input size (MB): 0.000076\n",
      "Forward/backward pass size (MB): 0.005981\n",
      "Params size (MB): 0.002201\n",
      "Estimated Total Size (MB): 0.008259\n",
      "--------------------------------------------------------------------------\n"
     ]
    }
   ],
   "source": [
    "tail_conv = nn.Conv2d(features, out_channels, kernel_size=3, padding=1)\n",
    "out=tail_conv(dec01_x)\n",
    "\n",
    "info=summary(tail_conv,input_data=dec01_x)"
   ]
  }
 ],
 "metadata": {
  "kernelspec": {
   "display_name": ".venv",
   "language": "python",
   "name": "python3"
  },
  "language_info": {
   "codemirror_mode": {
    "name": "ipython",
    "version": 3
   },
   "file_extension": ".py",
   "mimetype": "text/x-python",
   "name": "python",
   "nbconvert_exporter": "python",
   "pygments_lexer": "ipython3",
   "version": "3.12.7"
  }
 },
 "nbformat": 4,
 "nbformat_minor": 2
}
