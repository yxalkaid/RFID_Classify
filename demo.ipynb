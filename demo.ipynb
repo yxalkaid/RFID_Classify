{
 "cells": [
  {
   "cell_type": "code",
   "execution_count": null,
   "metadata": {},
   "outputs": [],
   "source": [
    "from torch.utils.data import DataLoader\n",
    "\n",
    "from RFID_Dataset import RFID_Dataset\n",
    "\n",
    "input_shape = (3, 64, 12)\n",
    "train_dataset=RFID_Dataset(\n",
    "    data_path=\"\",\n",
    "    transform=None,\n",
    ")\n",
    "\n",
    "train_loader = DataLoader(\n",
    "    train_dataset,\n",
    "    batch_size=4,\n",
    ")"
   ]
  },
  {
   "cell_type": "code",
   "execution_count": 1,
   "metadata": {},
   "outputs": [],
   "source": [
    "from model.UNet import UNet\n",
    "from model.Scheduler import LinearBetaScheduler\n",
    "from model.CD_Model import CD_Model\n",
    "\n",
    "model=CD_Model(\n",
    "    unet=UNet(),\n",
    "    scheduler=LinearBetaScheduler(),\n",
    ")"
   ]
  },
  {
   "cell_type": "code",
   "execution_count": null,
   "metadata": {},
   "outputs": [],
   "source": [
    "from ModelUtils import ModelUtils\n",
    "model_utils = ModelUtils(model)"
   ]
  },
  {
   "cell_type": "code",
   "execution_count": null,
   "metadata": {},
   "outputs": [],
   "source": [
    "from torch.optim import Adam\n",
    "from torch.nn import MSELoss\n",
    "\n",
    "model_utils.train(\n",
    "    optimizer=Adam(model.parameters(), lr=1e-3),\n",
    "    criterion=MSELoss(),\n",
    "    train_loader=train_loader,\n",
    "    epochs=10,\n",
    ")"
   ]
  },
  {
   "cell_type": "code",
   "execution_count": null,
   "metadata": {},
   "outputs": [],
   "source": [
    "import torch\n",
    "xt= torch.randn(1,3,64,12)\n",
    "print(model(x=xt,time=16,condition=0))"
   ]
  }
 ],
 "metadata": {
  "kernelspec": {
   "display_name": ".venv",
   "language": "python",
   "name": "python3"
  },
  "language_info": {
   "codemirror_mode": {
    "name": "ipython",
    "version": 3
   },
   "file_extension": ".py",
   "mimetype": "text/x-python",
   "name": "python",
   "nbconvert_exporter": "python",
   "pygments_lexer": "ipython3",
   "version": "3.12.7"
  }
 },
 "nbformat": 4,
 "nbformat_minor": 2
}
