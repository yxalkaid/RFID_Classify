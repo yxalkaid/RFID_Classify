{
 "cells": [
  {
   "cell_type": "code",
   "execution_count": null,
   "metadata": {},
   "outputs": [],
   "source": [
    "import matplotlib.pyplot as plt\n",
    "\n",
    "def plot_values(data_dict):\n",
    "    # 绘制数值变化曲线\n",
    "    plt.figure(figsize=(10, 6))\n",
    "    \n",
    "    # 遍历字典中的每个键值对\n",
    "    for label, values in data_dict.items():\n",
    "        plt.plot(values, label=label)  # 绘制曲线并设置标签\n",
    "    \n",
    "    plt.xlabel('Timestep')\n",
    "    plt.ylabel('Value')\n",
    "    plt.title('Variation over Timesteps')\n",
    "    plt.grid(True)\n",
    "    plt.legend()  # 显示图例\n",
    "    plt.show()"
   ]
  },
  {
   "cell_type": "code",
   "execution_count": null,
   "metadata": {},
   "outputs": [],
   "source": [
    "import torch\n",
    "\n",
    "beta_start = 0.0001\n",
    "beta_end = 0.02\n",
    "timesteps = 1000\n",
    "\n",
    "\n",
    "betas = torch.cat([torch.zeros(1), torch.linspace(beta_start, beta_end, timesteps)])\n",
    "\n",
    "alphas = 1.0 - betas\n",
    "alphas_bar = torch.cumprod(alphas, dim=0)\n",
    "sigmas = torch.sqrt(betas)\n",
    "\n",
    "gamma = torch.tensor(5)\n",
    "snr = alphas_bar / (1 - alphas_bar)\n",
    "min_snr=torch.minimum(gamma/snr,torch.tensor(1))\n",
    "# min_snr = torch.minimum(snr, gamma)"
   ]
  },
  {
   "cell_type": "code",
   "execution_count": null,
   "metadata": {},
   "outputs": [],
   "source": [
    "# 找到第一个大于 gamma 的索引\n",
    "first_index_over_gamma = (min_snr >=1).nonzero(as_tuple=True)[0][0]\n",
    "print(first_index_over_gamma)"
   ]
  },
  {
   "cell_type": "code",
   "execution_count": null,
   "metadata": {},
   "outputs": [],
   "source": [
    "data={\n",
    "    \"min_snr\":min_snr,\n",
    "    # \"snr\":snr,\n",
    "}\n",
    "\n",
    "plot_values(data)"
   ]
  }
 ],
 "metadata": {
  "kernelspec": {
   "display_name": ".venv",
   "language": "python",
   "name": "python3"
  },
  "language_info": {
   "codemirror_mode": {
    "name": "ipython",
    "version": 3
   },
   "file_extension": ".py",
   "mimetype": "text/x-python",
   "name": "python",
   "nbconvert_exporter": "python",
   "pygments_lexer": "ipython3",
   "version": "3.12.7"
  }
 },
 "nbformat": 4,
 "nbformat_minor": 2
}
