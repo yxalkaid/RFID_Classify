{
 "cells": [
  {
   "cell_type": "code",
   "execution_count": null,
   "id": "f3da8990",
   "metadata": {},
   "outputs": [],
   "source": [
    "import torch\n",
    "from utils.DataUtils.Visualization import plot_curves\n",
    "\n",
    "\n",
    "def MaxSNRLoss_weight(alpha_bar_t):\n",
    "    gamma = 1.0\n",
    "    factor = (1 / alpha_bar_t - 1) * gamma\n",
    "    weight = torch.maximum(factor, torch.ones_like(alpha_bar_t))\n",
    "    return weight\n",
    "\n",
    "\n",
    "def MinSNRLoss_weight(alpha_bar_t):\n",
    "    gamma = 1.0\n",
    "    factor = (1 / alpha_bar_t - 1) * gamma\n",
    "    weight = torch.minimum(factor, torch.ones_like(alpha_bar_t))\n",
    "    return weight\n",
    "\n",
    "\n",
    "def SigmoidLoss_weight(alpha_bar_t):\n",
    "    bias = -3.0\n",
    "    logsnr = torch.log(alpha_bar_t / (1 - alpha_bar_t))\n",
    "    weight = torch.sigmoid(bias - logsnr)\n",
    "    return weight\n",
    "\n",
    "\n",
    "def InverseSigmoidLoss_weight(alpha_bar_t):\n",
    "    bias = 3.0\n",
    "    logsnr = torch.log(alpha_bar_t / (1 - alpha_bar_t))\n",
    "    weight = torch.sigmoid(logsnr - bias) + 1\n",
    "    return weight\n",
    "\n",
    "\n",
    "def InverseSNRLoss_weight(alpha_bar_t):\n",
    "    snr = alpha_bar_t / (1 - alpha_bar_t)\n",
    "    weight = 1 / snr\n",
    "    return weight"
   ]
  },
  {
   "cell_type": "code",
   "execution_count": null,
   "id": "7df1d39c",
   "metadata": {},
   "outputs": [],
   "source": [
    "from model.BetaScheduler import LinearBetaScheduler\n",
    "\n",
    "scheudler=LinearBetaScheduler(timesteps=1000)\n",
    "\n",
    "time=torch.arange(1,1000)\n",
    "alpha_bar_t=scheudler.get_alpha_bar(time)\n",
    "alpha_bar_t = torch.squeeze(alpha_bar_t)\n",
    "\n",
    "group={\n",
    "    # \"snr\":alpha_bar_t/(1-alpha_bar_t),\n",
    "    # \"logsnr\":torch.log(alpha_bar_t/(1-alpha_bar_t)),\n",
    "    \"base\":torch.ones(time.shape),\n",
    "    \"MinSNR\":MinSNRLoss_weight(alpha_bar_t),\n",
    "    \"Sigmoid\":SigmoidLoss_weight(alpha_bar_t),\n",
    "    # \"InverseSigmoid\":InverseSigmoidLoss_weight(alpha_bar_t),\n",
    "}\n",
    "\n",
    "plot_curves(\n",
    "    group\n",
    ")"
   ]
  }
 ],
 "metadata": {
  "kernelspec": {
   "display_name": ".venv",
   "language": "python",
   "name": "python3"
  },
  "language_info": {
   "codemirror_mode": {
    "name": "ipython",
    "version": 3
   },
   "file_extension": ".py",
   "mimetype": "text/x-python",
   "name": "python",
   "nbconvert_exporter": "python",
   "pygments_lexer": "ipython3",
   "version": "3.12.7"
  }
 },
 "nbformat": 4,
 "nbformat_minor": 5
}
