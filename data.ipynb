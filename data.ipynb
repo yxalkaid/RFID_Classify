{
 "cells": [
  {
   "cell_type": "code",
   "execution_count": null,
   "id": "31a57c74",
   "metadata": {},
   "outputs": [],
   "source": [
    "from utils.ConfigUtils import *\n",
    "from utils.DataUtils.DataProcessor import *\n",
    "from utils.DataUtils.VisualUtils import *\n",
    "\n",
    "config_path = \"data.yml\"\n",
    "tags=get_config(load_yml_config(config_path), \"tags\")"
   ]
  },
  {
   "cell_type": "code",
   "execution_count": null,
   "id": "ce828553",
   "metadata": {},
   "outputs": [],
   "source": [
    "plot_phase(\n",
    "    r\"data\\RFID\\processed\\CSV_20250415104152.csv\",\n",
    "    \"da0e\",\n",
    "    limit=100,\n",
    "    offset=0,\n",
    ")"
   ]
  },
  {
   "cell_type": "code",
   "execution_count": null,
   "id": "5bdfea08",
   "metadata": {},
   "outputs": [],
   "source": [
    "\n",
    "plot_phase_differ(\n",
    "    r\"data\\RFID\\final\\CSV_20250415104152.csv\",\n",
    "    \"da0e\",\n",
    "    limit=100,\n",
    "    offset=0,\n",
    ")"
   ]
  }
 ],
 "metadata": {
  "kernelspec": {
   "display_name": ".venv",
   "language": "python",
   "name": "python3"
  },
  "language_info": {
   "codemirror_mode": {
    "name": "ipython",
    "version": 3
   },
   "file_extension": ".py",
   "mimetype": "text/x-python",
   "name": "python",
   "nbconvert_exporter": "python",
   "pygments_lexer": "ipython3",
   "version": "3.12.7"
  }
 },
 "nbformat": 4,
 "nbformat_minor": 5
}
