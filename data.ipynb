{
 "cells": [
  {
   "cell_type": "code",
   "execution_count": null,
   "id": "31a57c74",
   "metadata": {},
   "outputs": [],
   "source": [
    "from utils.ConfigUtils import *\n",
    "from utils.DataUtils.DataProcessor import DataProcessor\n",
    "from utils.DataUtils.Visualization import *\n",
    "import os\n",
    "\n",
    "config_path = \"data/RFID/data.yml\"\n",
    "config=load_yml_config(config_path)\n",
    "tags=get_tags(config_path)\n",
    "processor=DataProcessor()"
   ]
  },
  {
   "cell_type": "code",
   "execution_count": null,
   "id": "8a24a9a1",
   "metadata": {},
   "outputs": [],
   "source": [
    "input_dir=r\"data\\RFID\\raw\"\n",
    "output_dir=r\"data\\RFID\\final\"\n",
    "mask_dir=r\"data\\RFID\\mask\""
   ]
  },
  {
   "cell_type": "code",
   "execution_count": null,
   "id": "0a4d8c34",
   "metadata": {},
   "outputs": [],
   "source": [
    "# 单个文件处理\n",
    "\n",
    "file_name=\"静止001.csv\"\n",
    "input_path=os.path.join(input_dir, file_name)\n",
    "output_path=os.path.join(output_dir, file_name)\n",
    "mask_path=os.path.join(mask_dir, file_name)\n",
    "processor.run_pipeline(\n",
    "    input_path, \n",
    "    output_path, \n",
    "    tags,\n",
    "    mask_path=None\n",
    ")"
   ]
  },
  {
   "cell_type": "code",
   "execution_count": null,
   "id": "5bdfea08",
   "metadata": {},
   "outputs": [],
   "source": [
    "tag_name=\"b0de\"\n",
    "plot_phase_diff_scatter(\n",
    "    output_path,\n",
    "    tag_name,\n",
    "    limit=500,\n",
    "    offset=0,\n",
    ")"
   ]
  },
  {
   "cell_type": "code",
   "execution_count": null,
   "id": "b4e4dddf",
   "metadata": {},
   "outputs": [],
   "source": [
    "# 批量处理\n",
    "processor.process_batch(\n",
    "    input_dir,\n",
    "    output_dir,\n",
    "    tags,\n",
    "    mask_dir=mask_dir\n",
    ")"
   ]
  },
  {
   "cell_type": "code",
   "execution_count": null,
   "id": "64071513",
   "metadata": {},
   "outputs": [],
   "source": [
    "tag_name=\"b0de\"\n",
    "for file_name in os.listdir(output_dir):\n",
    "    if not file_name.endswith(\"mask.csv\"):\n",
    "        path = os.path.join(output_dir, file_name)\n",
    "        print(path)\n",
    "        plot_phase_diff_scatter(\n",
    "            path,\n",
    "            tag_name,\n",
    "            limit=500,\n",
    "            offset=0,\n",
    "        )"
   ]
  },
  {
   "cell_type": "code",
   "execution_count": null,
   "id": "0307c3c9",
   "metadata": {},
   "outputs": [],
   "source": [
    "from utils.RFID_Dataset import RFID_Dataset\n",
    "\n",
    "used_dataset=RFID_Dataset(\n",
    "    r\"data\\RFID\\dataset\\eval\",\n",
    "    T=32,\n",
    "    step=1,\n",
    "    transform=None,\n",
    ")\n",
    "print(f\"数据集的数据个数: {len(used_dataset)}\")"
   ]
  },
  {
   "cell_type": "code",
   "execution_count": null,
   "id": "196dbcce",
   "metadata": {},
   "outputs": [],
   "source": [
    "from utils.FeatureUtils import reduce_dimension\n",
    "from utils.DataUtils.Visualization import *\n",
    "\n",
    "out_datas=reduce_dimension(used_dataset.datas, method=\"tsne\")\n",
    "plot_classes_scatter(\n",
    "    out_datas,\n",
    "    used_dataset.labels\n",
    ")"
   ]
  }
 ],
 "metadata": {
  "kernelspec": {
   "display_name": ".venv",
   "language": "python",
   "name": "python3"
  },
  "language_info": {
   "codemirror_mode": {
    "name": "ipython",
    "version": 3
   },
   "file_extension": ".py",
   "mimetype": "text/x-python",
   "name": "python",
   "nbconvert_exporter": "python",
   "pygments_lexer": "ipython3",
   "version": "3.12.7"
  }
 },
 "nbformat": 4,
 "nbformat_minor": 5
}
