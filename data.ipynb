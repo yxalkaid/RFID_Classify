{
 "cells": [
  {
   "cell_type": "code",
   "execution_count": null,
   "id": "31a57c74",
   "metadata": {},
   "outputs": [],
   "source": [
    "from utils.ConfigUtils import *\n",
    "from utils.DataUtils.DataProcessor import *\n",
    "from utils.DataUtils.VisualUtils import *\n",
    "\n",
    "config_path = \"data.yml\"\n",
    "tags=get_config(load_yml_config(config_path), \"tags\")"
   ]
  },
  {
   "cell_type": "code",
   "execution_count": null,
   "id": "f4192d1b",
   "metadata": {},
   "outputs": [],
   "source": [
    "processor=DataProcessor()\n",
    "input_path=r\"data\\RFID\\raw\\CSV_20250415104152.csv\"\n",
    "output_path=r\"data\\RFID\\final\\CSV_20250415104152.csv\""
   ]
  },
  {
   "cell_type": "code",
   "execution_count": null,
   "id": "679416d7",
   "metadata": {},
   "outputs": [],
   "source": [
    "raw_data=processor.load_raw_data(input_path)"
   ]
  },
  {
   "cell_type": "code",
   "execution_count": null,
   "id": "1334713d",
   "metadata": {},
   "outputs": [],
   "source": [
    "import cProfile\n",
    "\n",
    "cProfile.run(\"\"\"\n",
    "processor.run_pipeline(\n",
    "    input_path, \n",
    "    output_path, \n",
    "    tags\n",
    ")\n",
    "\"\"\",\n",
    "sort='cumtime',\n",
    ")"
   ]
  },
  {
   "cell_type": "code",
   "execution_count": null,
   "id": "0a4d8c34",
   "metadata": {},
   "outputs": [],
   "source": [
    "processor.run_pipeline(\n",
    "    input_path, \n",
    "    output_path, \n",
    "    tags\n",
    ")"
   ]
  },
  {
   "cell_type": "code",
   "execution_count": null,
   "id": "5bdfea08",
   "metadata": {},
   "outputs": [],
   "source": [
    "plot_phase_diff_scatter(\n",
    "    output_path,\n",
    "    \"da0e\",\n",
    "    limit=500,\n",
    "    offset=0,\n",
    ")"
   ]
  }
 ],
 "metadata": {
  "kernelspec": {
   "display_name": ".venv",
   "language": "python",
   "name": "python3"
  },
  "language_info": {
   "codemirror_mode": {
    "name": "ipython",
    "version": 3
   },
   "file_extension": ".py",
   "mimetype": "text/x-python",
   "name": "python",
   "nbconvert_exporter": "python",
   "pygments_lexer": "ipython3",
   "version": "3.12.7"
  }
 },
 "nbformat": 4,
 "nbformat_minor": 5
}
