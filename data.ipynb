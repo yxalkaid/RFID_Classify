{
 "cells": [
  {
   "cell_type": "markdown",
   "id": "00c38ec4",
   "metadata": {},
   "source": [
    "### 数据预处理"
   ]
  },
  {
   "cell_type": "code",
   "execution_count": null,
   "id": "31a57c74",
   "metadata": {},
   "outputs": [],
   "source": [
    "from utils.ConfigUtils import *\n",
    "from utils.DataUtils.DataProcessor import DataProcessor\n",
    "from utils.DataUtils.Visualization import *\n",
    "import os\n",
    "\n",
    "parent_dir=\"data/Temp\"\n",
    "config_path = f\"{parent_dir}/data.yml\"\n",
    "config=load_yml_config(config_path)\n",
    "tags=get_tags(config_path)\n",
    "processor=DataProcessor()"
   ]
  },
  {
   "cell_type": "code",
   "execution_count": null,
   "id": "8a24a9a1",
   "metadata": {},
   "outputs": [],
   "source": [
    "input_dir=f\"{parent_dir}/raw\"\n",
    "output_dir=f\"{parent_dir}/final\"\n",
    "mask_dir=f\"{parent_dir}/mask\"\n",
    "processed_dir=f\"{parent_dir}/processed\""
   ]
  },
  {
   "cell_type": "code",
   "execution_count": null,
   "id": "0a4d8c34",
   "metadata": {},
   "outputs": [],
   "source": [
    "# 单个文件处理\n",
    "\n",
    "file_name=\"静止001.csv\"\n",
    "input_path=os.path.join(input_dir, file_name)\n",
    "output_path=os.path.join(output_dir, file_name)\n",
    "mask_path=os.path.join(mask_dir, file_name)\n",
    "processed_path=os.path.join(processed_dir, file_name)\n",
    "processor.run_pipeline(\n",
    "    input_path, \n",
    "    output_path, \n",
    "    tags,\n",
    "    has_header=False,\n",
    "    names=[\"time\", \"id\", \"channel\", \"phase\", \"rssi\"],\n",
    "    decimals=4\n",
    ")"
   ]
  },
  {
   "cell_type": "code",
   "execution_count": null,
   "id": "5bdfea08",
   "metadata": {},
   "outputs": [],
   "source": [
    "tag_name=\"b0de\"\n",
    "plot_phase_diff_scatter(\n",
    "    output_path,\n",
    "    tag_name,\n",
    "    limit=500,\n",
    "    offset=0,\n",
    ")"
   ]
  },
  {
   "cell_type": "code",
   "execution_count": null,
   "id": "b4e4dddf",
   "metadata": {},
   "outputs": [],
   "source": [
    "# 批量处理\n",
    "processor.process_batch(\n",
    "    input_dir,\n",
    "    output_dir,\n",
    "    tags,\n",
    "    # mask_dir=mask_dir,\n",
    "    # processed_dir=processed_dir,\n",
    "    has_header=False,\n",
    "    names=[\"time\", \"id\", \"channel\", \"phase\", \"rssi\"],\n",
    "    decimals=4\n",
    ")"
   ]
  },
  {
   "cell_type": "code",
   "execution_count": null,
   "id": "64071513",
   "metadata": {},
   "outputs": [],
   "source": [
    "tag_name=\"b0de\"\n",
    "for file_name in os.listdir(output_dir):\n",
    "    path = os.path.join(output_dir, file_name)\n",
    "    print(path)\n",
    "    plot_phase_diff_scatter(\n",
    "        path,\n",
    "        tag_name,\n",
    "        limit=500,\n",
    "        offset=0,\n",
    "        filter_zero=False\n",
    "    )"
   ]
  },
  {
   "cell_type": "code",
   "execution_count": null,
   "id": "f44dca40",
   "metadata": {},
   "outputs": [],
   "source": [
    "tag_name=\"b0fe\"\n",
    "data_dir=r\"data\\RFID\\dataset\\all\\1\"\n",
    "for file_name in os.listdir(data_dir):\n",
    "    path = os.path.join(data_dir, file_name)\n",
    "    print(path)\n",
    "    plot_phase_diff_scatter(\n",
    "        path,\n",
    "        tag_name,\n",
    "        limit=500,\n",
    "        offset=0,\n",
    "    )"
   ]
  },
  {
   "cell_type": "code",
   "execution_count": null,
   "id": "79566f13",
   "metadata": {},
   "outputs": [],
   "source": [
    "from utils.CSVUtils import *\n",
    "\n",
    "csv_path=r\"D:\\Code\\VSCode-code\\JavaProtect\\rfid_reader\\output\\CSV_2025-06-18-13-54-07.csv\"\n",
    "out=get_unique_values(csv_path, 1)\n",
    "for item in out:\n",
    "    print(item)"
   ]
  }
 ],
 "metadata": {
  "kernelspec": {
   "display_name": ".venv",
   "language": "python",
   "name": "python3"
  },
  "language_info": {
   "codemirror_mode": {
    "name": "ipython",
    "version": 3
   },
   "file_extension": ".py",
   "mimetype": "text/x-python",
   "name": "python",
   "nbconvert_exporter": "python",
   "pygments_lexer": "ipython3",
   "version": "3.12.7"
  }
 },
 "nbformat": 4,
 "nbformat_minor": 5
}
