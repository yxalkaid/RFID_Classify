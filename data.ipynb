{
 "cells": [
  {
   "cell_type": "code",
   "execution_count": null,
   "id": "31a57c74",
   "metadata": {},
   "outputs": [],
   "source": [
    "from utils.ConfigUtils import *\n",
    "from utils.DataUtils.Cleaning import *\n",
    "from utils.DataUtils.Downsample import *\n",
    "from utils.DataUtils.VisualUtils import *\n",
    "\n",
    "config_path = \"data.yml\"\n",
    "tags=get_config(load_yml_config(config_path), \"tags\")"
   ]
  },
  {
   "cell_type": "code",
   "execution_count": null,
   "id": "f4192d1b",
   "metadata": {},
   "outputs": [],
   "source": [
    "processor=DataCleaning()\n",
    "input_path=r\"data\\RFID\\raw\\CSV_20250415104152.csv\"\n",
    "output_path=r\"data\\RFID\\final\\CSV_20250415104152.csv\""
   ]
  },
  {
   "cell_type": "code",
   "execution_count": null,
   "id": "0a4d8c34",
   "metadata": {},
   "outputs": [],
   "source": [
    "processor.process_pipeline(input_path, output_path, tags)"
   ]
  },
  {
   "cell_type": "code",
   "execution_count": null,
   "id": "cee192c6",
   "metadata": {},
   "outputs": [],
   "source": [
    "df=processor.load_data(output_path)\n",
    "df = downsample_by_time(df, window_ms=125)\n",
    "processor.save_data(df, \"001.csv\")"
   ]
  },
  {
   "cell_type": "code",
   "execution_count": null,
   "id": "ca9351c7",
   "metadata": {},
   "outputs": [],
   "source": [
    "plot_phase_differ(\n",
    "    \"001.csv\",\n",
    "    \"da0e\",\n",
    "    limit=500,\n",
    "    offset=0,\n",
    "    filter_zero=True,\n",
    ")"
   ]
  },
  {
   "cell_type": "code",
   "execution_count": null,
   "id": "5bdfea08",
   "metadata": {},
   "outputs": [],
   "source": [
    "plot_phase_differ_line(\n",
    "    output_path,\n",
    "    \"da0e\",\n",
    "    limit=500,\n",
    "    offset=0,\n",
    ")"
   ]
  }
 ],
 "metadata": {
  "kernelspec": {
   "display_name": ".venv",
   "language": "python",
   "name": "python3"
  },
  "language_info": {
   "codemirror_mode": {
    "name": "ipython",
    "version": 3
   },
   "file_extension": ".py",
   "mimetype": "text/x-python",
   "name": "python",
   "nbconvert_exporter": "python",
   "pygments_lexer": "ipython3",
   "version": "3.12.7"
  }
 },
 "nbformat": 4,
 "nbformat_minor": 5
}
