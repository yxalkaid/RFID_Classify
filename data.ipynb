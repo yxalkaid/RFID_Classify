{
 "cells": [
  {
   "cell_type": "code",
   "execution_count": null,
   "id": "31a57c74",
   "metadata": {},
   "outputs": [],
   "source": [
    "from utils.ConfigUtils import get_tags\n",
    "from utils.DataUtils.DataProcessor import DataProcessor\n",
    "from utils.DataUtils.VisualUtils import *\n",
    "\n",
    "config_path = \"data.yml\"\n",
    "tags=get_tags(config_path)\n",
    "processor=DataProcessor()"
   ]
  },
  {
   "cell_type": "code",
   "execution_count": null,
   "id": "0a4d8c34",
   "metadata": {},
   "outputs": [],
   "source": [
    "# 单个文件处理\n",
    "\n",
    "input_path=r\"data\\RFID\\raw\\静止.csv\"\n",
    "output_path=r\"data\\RFID\\final\\静止.csv\"\n",
    "processor.run_pipeline(\n",
    "    input_path, \n",
    "    output_path, \n",
    "    tags\n",
    ")"
   ]
  },
  {
   "cell_type": "code",
   "execution_count": null,
   "id": "5bdfea08",
   "metadata": {},
   "outputs": [],
   "source": [
    "plot_phase_diff_scatter(\n",
    "    output_path,\n",
    "    \"b0ee\",\n",
    "    limit=500,\n",
    "    offset=0,\n",
    ")"
   ]
  },
  {
   "cell_type": "code",
   "execution_count": null,
   "id": "2b004498",
   "metadata": {},
   "outputs": [],
   "source": [
    "from utils.CSVUtils import *\n",
    "\n",
    "csv_path=r\"data\\RFID\\final\\静止.csv\"\n",
    "print(get_zero_columns(csv_path))\n",
    "print(len(get_zero_rows(csv_path,start_col=1)))"
   ]
  },
  {
   "cell_type": "code",
   "execution_count": null,
   "id": "5f01a2ab",
   "metadata": {},
   "outputs": [],
   "source": [
    "# 批量处理\n",
    "\n",
    "input_dir=r\"data\\RFID\\raw\"\n",
    "output_dir=r\"data\\RFID\\final\"\n",
    "processor.process_batch(\n",
    "    input_dir,\n",
    "    output_dir,\n",
    "    tags,\n",
    ")"
   ]
  },
  {
   "cell_type": "code",
   "execution_count": null,
   "id": "64071513",
   "metadata": {},
   "outputs": [],
   "source": [
    "import os\n",
    "tag_name=\"b0ee\"\n",
    "for file_name in os.listdir(output_dir):\n",
    "    if not file_name.endswith(\"mask.csv\"):\n",
    "        path = os.path.join(output_dir, file_name)\n",
    "        print(path)\n",
    "        plot_phase_diff_scatter(\n",
    "            path,\n",
    "            tag_name,\n",
    "            limit=500,\n",
    "            offset=0,\n",
    "        )"
   ]
  }
 ],
 "metadata": {
  "kernelspec": {
   "display_name": ".venv",
   "language": "python",
   "name": "python3"
  },
  "language_info": {
   "codemirror_mode": {
    "name": "ipython",
    "version": 3
   },
   "file_extension": ".py",
   "mimetype": "text/x-python",
   "name": "python",
   "nbconvert_exporter": "python",
   "pygments_lexer": "ipython3",
   "version": "3.12.7"
  }
 },
 "nbformat": 4,
 "nbformat_minor": 5
}
