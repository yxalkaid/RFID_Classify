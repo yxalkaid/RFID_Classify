{
 "cells": [
  {
   "cell_type": "markdown",
   "metadata": {},
   "source": [
    "### 活动类别识别"
   ]
  },
  {
   "cell_type": "code",
   "execution_count": null,
   "metadata": {},
   "outputs": [],
   "source": [
    "from torchvision import transforms\n",
    "\n",
    "from utils.RFID_Dataset import RFID_Dataset\n",
    "from utils.DatasetUtils import DatasetUtils\n",
    "\n",
    "data_utils= DatasetUtils()\n",
    "\n",
    "transform = transforms.Compose([\n",
    "])\n",
    "\n",
    "train_maps={\n",
    "    r\"data\\RFID\\final\\静止001.csv\":0,\n",
    "    r\"data\\RFID\\final\\蹲下001.csv\":1,\n",
    "    r\"data\\RFID\\final\\行走001.csv\":2,\n",
    "}\n",
    "\n",
    "eval_maps={\n",
    "    r\"data\\RFID\\final\\静止002.csv\":0,\n",
    "    r\"data\\RFID\\final\\蹲下002.csv\":1,\n",
    "    r\"data\\RFID\\final\\行走002.csv\":2,\n",
    "}\n",
    "\n",
    "# 加载数据集\n",
    "train_dataset = RFID_Dataset(\n",
    "    file_label_map=train_maps,\n",
    "    T=32,\n",
    "    step=2,\n",
    "    transform=transform,\n",
    ")\n",
    "eval_dataset = RFID_Dataset(\n",
    "    file_label_map=eval_maps,\n",
    "    T=32,\n",
    "    step=2,\n",
    "    transform=transform,\n",
    ")\n",
    "\n",
    "print(f\"训练集的数据个数: {len(train_dataset)}\")\n",
    "print(f\"验证集的数据个数: {len(eval_dataset)}\")"
   ]
  },
  {
   "cell_type": "code",
   "execution_count": null,
   "metadata": {},
   "outputs": [],
   "source": [
    "# 模型组网\n",
    "from torchkeras import summary\n",
    "from model.ClassifyNet import ClassifyNet\n",
    "\n",
    "from utils.ModelWorker.ClassifyModelWorker import ClassifyModelWorker\n",
    "\n",
    "input_shape=data_utils.get_data_shape(train_dataset)\n",
    "model=ClassifyNet(\n",
    "    input_shape=(1,32,12),\n",
    "    num_classes=3\n",
    ")\n",
    "\n",
    "model_worker=ClassifyModelWorker(model)\n",
    "\n",
    "print(f\"{input_shape=}\")\n",
    "model_info=summary(model,input_shape=input_shape)"
   ]
  },
  {
   "cell_type": "code",
   "execution_count": 3,
   "metadata": {},
   "outputs": [],
   "source": [
    "# 模型准备\n",
    "from torch.utils.data import DataLoader\n",
    "from torch import nn\n",
    "from torch import optim\n",
    "\n",
    "train_loader = DataLoader(train_dataset, batch_size=8, shuffle=True)\n",
    "eval_loader = DataLoader(eval_dataset, batch_size=4)\n",
    "\n",
    "loss = nn.CrossEntropyLoss()\n",
    "optimizer = optim.Adam(model.parameters(), lr=0.0001)\n"
   ]
  },
  {
   "cell_type": "code",
   "execution_count": 4,
   "metadata": {},
   "outputs": [
    {
     "name": "stdout",
     "output_type": "stream",
     "text": [
      "Model will be trained on cuda\n",
      "==============================\n",
      "Epoch [1/20] begin...\n"
     ]
    },
    {
     "name": "stderr",
     "output_type": "stream",
     "text": [
      "Training: 100%|██████████| 52/52 [00:00<00:00, 75.32step/s, acc=1, loss=0.0265]   \n"
     ]
    },
    {
     "name": "stdout",
     "output_type": "stream",
     "text": [
      "Train Loss: 0.6522, Train Acc: 0.6064\n"
     ]
    },
    {
     "name": "stderr",
     "output_type": "stream",
     "text": [
      "Evaluating: 100%|██████████| 103/103 [00:00<00:00, 469.30step/s, acc=1, loss=0.00168]\n"
     ]
    },
    {
     "name": "stdout",
     "output_type": "stream",
     "text": [
      "Eval samples:409, Eval Loss: 0.3395, Eval Acc: 1.0000\n",
      "Epoch [1/20] finish\n",
      "==============================\n",
      "Epoch [2/20] begin...\n"
     ]
    },
    {
     "name": "stderr",
     "output_type": "stream",
     "text": [
      "Training: 100%|██████████| 52/52 [00:00<00:00, 161.55step/s, acc=1, loss=0.0378]\n"
     ]
    },
    {
     "name": "stdout",
     "output_type": "stream",
     "text": [
      "Train Loss: 0.2190, Train Acc: 1.0000\n"
     ]
    },
    {
     "name": "stderr",
     "output_type": "stream",
     "text": [
      "Evaluating: 100%|██████████| 103/103 [00:00<00:00, 578.09step/s, acc=1, loss=7.72e-5]\n"
     ]
    },
    {
     "name": "stdout",
     "output_type": "stream",
     "text": [
      "Eval samples:409, Eval Loss: 0.0803, Eval Acc: 1.0000\n",
      "Epoch [2/20] finish\n",
      "==============================\n",
      "Epoch [3/20] begin...\n"
     ]
    },
    {
     "name": "stderr",
     "output_type": "stream",
     "text": [
      "Training: 100%|██████████| 52/52 [00:00<00:00, 159.43step/s, acc=1, loss=1.19e-6]\n"
     ]
    },
    {
     "name": "stdout",
     "output_type": "stream",
     "text": [
      "Train Loss: 0.0270, Train Acc: 1.0000\n"
     ]
    },
    {
     "name": "stderr",
     "output_type": "stream",
     "text": [
      "Evaluating: 100%|██████████| 103/103 [00:00<00:00, 504.15step/s, acc=1, loss=9.06e-6]\n"
     ]
    },
    {
     "name": "stdout",
     "output_type": "stream",
     "text": [
      "Eval samples:409, Eval Loss: 0.0077, Eval Acc: 1.0000\n",
      "Epoch [3/20] finish\n",
      "==============================\n",
      "Epoch [4/20] begin...\n"
     ]
    },
    {
     "name": "stderr",
     "output_type": "stream",
     "text": [
      "Training: 100%|██████████| 52/52 [00:00<00:00, 155.63step/s, acc=1, loss=0.00562] \n"
     ]
    },
    {
     "name": "stdout",
     "output_type": "stream",
     "text": [
      "Train Loss: 0.0040, Train Acc: 1.0000\n"
     ]
    },
    {
     "name": "stderr",
     "output_type": "stream",
     "text": [
      "Evaluating: 100%|██████████| 103/103 [00:00<00:00, 508.62step/s, acc=1, loss=6.2e-6] \n"
     ]
    },
    {
     "name": "stdout",
     "output_type": "stream",
     "text": [
      "Eval samples:409, Eval Loss: 0.0024, Eval Acc: 1.0000\n",
      "Epoch [4/20] finish\n",
      "==============================\n",
      "Epoch [5/20] begin...\n"
     ]
    },
    {
     "name": "stderr",
     "output_type": "stream",
     "text": [
      "Training: 100%|██████████| 52/52 [00:00<00:00, 157.81step/s, acc=1, loss=3.29e-5] \n"
     ]
    },
    {
     "name": "stdout",
     "output_type": "stream",
     "text": [
      "Train Loss: 0.0015, Train Acc: 1.0000\n"
     ]
    },
    {
     "name": "stderr",
     "output_type": "stream",
     "text": [
      "Evaluating: 100%|██████████| 103/103 [00:00<00:00, 484.83step/s, acc=1, loss=1.55e-6]\n"
     ]
    },
    {
     "name": "stdout",
     "output_type": "stream",
     "text": [
      "Eval samples:409, Eval Loss: 0.0013, Eval Acc: 1.0000\n",
      "Epoch [5/20] finish\n",
      "==============================\n",
      "Epoch [6/20] begin...\n"
     ]
    },
    {
     "name": "stderr",
     "output_type": "stream",
     "text": [
      "Training: 100%|██████████| 52/52 [00:00<00:00, 160.52step/s, acc=1, loss=6.56e-6] \n"
     ]
    },
    {
     "name": "stdout",
     "output_type": "stream",
     "text": [
      "Train Loss: 0.0008, Train Acc: 1.0000\n"
     ]
    },
    {
     "name": "stderr",
     "output_type": "stream",
     "text": [
      "Evaluating: 100%|██████████| 103/103 [00:00<00:00, 541.86step/s, acc=1, loss=1.07e-6]\n"
     ]
    },
    {
     "name": "stdout",
     "output_type": "stream",
     "text": [
      "Eval samples:409, Eval Loss: 0.0007, Eval Acc: 1.0000\n",
      "Epoch [6/20] finish\n",
      "==============================\n",
      "Epoch [7/20] begin...\n"
     ]
    },
    {
     "name": "stderr",
     "output_type": "stream",
     "text": [
      "Training: 100%|██████████| 52/52 [00:00<00:00, 164.21step/s, acc=1, loss=0.00127] \n"
     ]
    },
    {
     "name": "stdout",
     "output_type": "stream",
     "text": [
      "Train Loss: 0.0005, Train Acc: 1.0000\n"
     ]
    },
    {
     "name": "stderr",
     "output_type": "stream",
     "text": [
      "Evaluating: 100%|██████████| 103/103 [00:00<00:00, 542.62step/s, acc=1, loss=5.96e-7]\n"
     ]
    },
    {
     "name": "stdout",
     "output_type": "stream",
     "text": [
      "Eval samples:409, Eval Loss: 0.0005, Eval Acc: 1.0000\n",
      "Epoch [7/20] finish\n",
      "==============================\n",
      "Epoch [8/20] begin...\n"
     ]
    },
    {
     "name": "stderr",
     "output_type": "stream",
     "text": [
      "Training: 100%|██████████| 52/52 [00:00<00:00, 154.50step/s, acc=1, loss=1.43e-6] \n"
     ]
    },
    {
     "name": "stdout",
     "output_type": "stream",
     "text": [
      "Train Loss: 0.0004, Train Acc: 1.0000\n"
     ]
    },
    {
     "name": "stderr",
     "output_type": "stream",
     "text": [
      "Evaluating: 100%|██████████| 103/103 [00:00<00:00, 523.24step/s, acc=1, loss=2.38e-7]\n"
     ]
    },
    {
     "name": "stdout",
     "output_type": "stream",
     "text": [
      "Eval samples:409, Eval Loss: 0.0004, Eval Acc: 1.0000\n",
      "Epoch [8/20] finish\n",
      "==============================\n",
      "Epoch [9/20] begin...\n"
     ]
    },
    {
     "name": "stderr",
     "output_type": "stream",
     "text": [
      "Training: 100%|██████████| 52/52 [00:00<00:00, 161.44step/s, acc=1, loss=0.000351]\n"
     ]
    },
    {
     "name": "stdout",
     "output_type": "stream",
     "text": [
      "Train Loss: 0.0003, Train Acc: 1.0000\n"
     ]
    },
    {
     "name": "stderr",
     "output_type": "stream",
     "text": [
      "Evaluating: 100%|██████████| 103/103 [00:00<00:00, 528.44step/s, acc=1, loss=2.38e-7]\n"
     ]
    },
    {
     "name": "stdout",
     "output_type": "stream",
     "text": [
      "Eval samples:409, Eval Loss: 0.0003, Eval Acc: 1.0000\n",
      "Epoch [9/20] finish\n",
      "==============================\n",
      "Epoch [10/20] begin...\n"
     ]
    },
    {
     "name": "stderr",
     "output_type": "stream",
     "text": [
      "Training: 100%|██████████| 52/52 [00:00<00:00, 153.26step/s, acc=1, loss=3.43e-5] \n"
     ]
    },
    {
     "name": "stdout",
     "output_type": "stream",
     "text": [
      "Train Loss: 0.0002, Train Acc: 1.0000\n"
     ]
    },
    {
     "name": "stderr",
     "output_type": "stream",
     "text": [
      "Evaluating: 100%|██████████| 103/103 [00:00<00:00, 512.11step/s, acc=1, loss=1.19e-7]\n"
     ]
    },
    {
     "name": "stdout",
     "output_type": "stream",
     "text": [
      "Eval samples:409, Eval Loss: 0.0002, Eval Acc: 1.0000\n",
      "Epoch [10/20] finish\n",
      "==============================\n",
      "Epoch [11/20] begin...\n"
     ]
    },
    {
     "name": "stderr",
     "output_type": "stream",
     "text": [
      "Training: 100%|██████████| 52/52 [00:00<00:00, 146.10step/s, acc=1, loss=4.89e-6] \n"
     ]
    },
    {
     "name": "stdout",
     "output_type": "stream",
     "text": [
      "Train Loss: 0.0002, Train Acc: 1.0000\n"
     ]
    },
    {
     "name": "stderr",
     "output_type": "stream",
     "text": [
      "Evaluating: 100%|██████████| 103/103 [00:00<00:00, 481.55step/s, acc=1, loss=1.19e-7]\n"
     ]
    },
    {
     "name": "stdout",
     "output_type": "stream",
     "text": [
      "Eval samples:409, Eval Loss: 0.0002, Eval Acc: 1.0000\n",
      "Epoch [11/20] finish\n",
      "==============================\n",
      "Epoch [12/20] begin...\n"
     ]
    },
    {
     "name": "stderr",
     "output_type": "stream",
     "text": [
      "Training: 100%|██████████| 52/52 [00:00<00:00, 149.82step/s, acc=1, loss=0.000304]\n"
     ]
    },
    {
     "name": "stdout",
     "output_type": "stream",
     "text": [
      "Train Loss: 0.0001, Train Acc: 1.0000\n"
     ]
    },
    {
     "name": "stderr",
     "output_type": "stream",
     "text": [
      "Evaluating: 100%|██████████| 103/103 [00:00<00:00, 483.86step/s, acc=1, loss=1.19e-7]\n"
     ]
    },
    {
     "name": "stdout",
     "output_type": "stream",
     "text": [
      "Eval samples:409, Eval Loss: 0.0001, Eval Acc: 1.0000\n",
      "Epoch [12/20] finish\n",
      "==============================\n",
      "Epoch [13/20] begin...\n"
     ]
    },
    {
     "name": "stderr",
     "output_type": "stream",
     "text": [
      "Training: 100%|██████████| 52/52 [00:00<00:00, 151.48step/s, acc=1, loss=1.19e-7] \n"
     ]
    },
    {
     "name": "stdout",
     "output_type": "stream",
     "text": [
      "Train Loss: 0.0001, Train Acc: 1.0000\n"
     ]
    },
    {
     "name": "stderr",
     "output_type": "stream",
     "text": [
      "Evaluating: 100%|██████████| 103/103 [00:00<00:00, 484.41step/s, acc=1, loss=1.19e-7]\n"
     ]
    },
    {
     "name": "stdout",
     "output_type": "stream",
     "text": [
      "Eval samples:409, Eval Loss: 0.0001, Eval Acc: 1.0000\n",
      "Epoch [13/20] finish\n",
      "==============================\n",
      "Epoch [14/20] begin...\n"
     ]
    },
    {
     "name": "stderr",
     "output_type": "stream",
     "text": [
      "Training: 100%|██████████| 52/52 [00:00<00:00, 151.14step/s, acc=1, loss=0.000237]\n"
     ]
    },
    {
     "name": "stdout",
     "output_type": "stream",
     "text": [
      "Train Loss: 0.0001, Train Acc: 1.0000\n"
     ]
    },
    {
     "name": "stderr",
     "output_type": "stream",
     "text": [
      "Evaluating: 100%|██████████| 103/103 [00:00<00:00, 469.72step/s, acc=1, loss=1.19e-7]\n"
     ]
    },
    {
     "name": "stdout",
     "output_type": "stream",
     "text": [
      "Eval samples:409, Eval Loss: 0.0001, Eval Acc: 1.0000\n",
      "Epoch [14/20] finish\n",
      "==============================\n",
      "Epoch [15/20] begin...\n"
     ]
    },
    {
     "name": "stderr",
     "output_type": "stream",
     "text": [
      "Training: 100%|██████████| 52/52 [00:00<00:00, 146.75step/s, acc=1, loss=0.000168]\n"
     ]
    },
    {
     "name": "stdout",
     "output_type": "stream",
     "text": [
      "Train Loss: 0.0001, Train Acc: 1.0000\n"
     ]
    },
    {
     "name": "stderr",
     "output_type": "stream",
     "text": [
      "Evaluating: 100%|██████████| 103/103 [00:00<00:00, 520.45step/s, acc=1, loss=1.19e-7]\n"
     ]
    },
    {
     "name": "stdout",
     "output_type": "stream",
     "text": [
      "Eval samples:409, Eval Loss: 0.0001, Eval Acc: 1.0000\n",
      "Epoch [15/20] finish\n",
      "==============================\n",
      "Epoch [16/20] begin...\n"
     ]
    },
    {
     "name": "stderr",
     "output_type": "stream",
     "text": [
      "Training: 100%|██████████| 52/52 [00:00<00:00, 156.69step/s, acc=1, loss=9.58e-5]\n"
     ]
    },
    {
     "name": "stdout",
     "output_type": "stream",
     "text": [
      "Train Loss: 0.0001, Train Acc: 1.0000\n"
     ]
    },
    {
     "name": "stderr",
     "output_type": "stream",
     "text": [
      "Evaluating: 100%|██████████| 103/103 [00:00<00:00, 541.87step/s, acc=1, loss=0]      \n"
     ]
    },
    {
     "name": "stdout",
     "output_type": "stream",
     "text": [
      "Eval samples:409, Eval Loss: 0.0001, Eval Acc: 1.0000\n",
      "Epoch [16/20] finish\n",
      "==============================\n",
      "Epoch [17/20] begin...\n"
     ]
    },
    {
     "name": "stderr",
     "output_type": "stream",
     "text": [
      "Training: 100%|██████████| 52/52 [00:00<00:00, 154.96step/s, acc=1, loss=2.26e-6] \n"
     ]
    },
    {
     "name": "stdout",
     "output_type": "stream",
     "text": [
      "Train Loss: 0.0001, Train Acc: 1.0000\n"
     ]
    },
    {
     "name": "stderr",
     "output_type": "stream",
     "text": [
      "Evaluating: 100%|██████████| 103/103 [00:00<00:00, 563.47step/s, acc=1, loss=0]      \n"
     ]
    },
    {
     "name": "stdout",
     "output_type": "stream",
     "text": [
      "Eval samples:409, Eval Loss: 0.0001, Eval Acc: 1.0000\n",
      "Epoch [17/20] finish\n",
      "==============================\n",
      "Epoch [18/20] begin...\n"
     ]
    },
    {
     "name": "stderr",
     "output_type": "stream",
     "text": [
      "Training: 100%|██████████| 52/52 [00:00<00:00, 153.24step/s, acc=1, loss=0.000137]\n"
     ]
    },
    {
     "name": "stdout",
     "output_type": "stream",
     "text": [
      "Train Loss: 0.0000, Train Acc: 1.0000\n"
     ]
    },
    {
     "name": "stderr",
     "output_type": "stream",
     "text": [
      "Evaluating: 100%|██████████| 103/103 [00:00<00:00, 562.10step/s, acc=1, loss=0]      \n"
     ]
    },
    {
     "name": "stdout",
     "output_type": "stream",
     "text": [
      "Eval samples:409, Eval Loss: 0.0001, Eval Acc: 1.0000\n",
      "Epoch [18/20] finish\n",
      "==============================\n",
      "Epoch [19/20] begin...\n"
     ]
    },
    {
     "name": "stderr",
     "output_type": "stream",
     "text": [
      "Training: 100%|██████████| 52/52 [00:00<00:00, 155.57step/s, acc=1, loss=0]      \n"
     ]
    },
    {
     "name": "stdout",
     "output_type": "stream",
     "text": [
      "Train Loss: 0.0000, Train Acc: 1.0000\n"
     ]
    },
    {
     "name": "stderr",
     "output_type": "stream",
     "text": [
      "Evaluating: 100%|██████████| 103/103 [00:00<00:00, 540.90step/s, acc=1, loss=0]      \n"
     ]
    },
    {
     "name": "stdout",
     "output_type": "stream",
     "text": [
      "Eval samples:409, Eval Loss: 0.0000, Eval Acc: 1.0000\n",
      "Epoch [19/20] finish\n",
      "==============================\n",
      "Epoch [20/20] begin...\n"
     ]
    },
    {
     "name": "stderr",
     "output_type": "stream",
     "text": [
      "Training: 100%|██████████| 52/52 [00:00<00:00, 149.86step/s, acc=1, loss=0.000139]\n"
     ]
    },
    {
     "name": "stdout",
     "output_type": "stream",
     "text": [
      "Train Loss: 0.0000, Train Acc: 1.0000\n"
     ]
    },
    {
     "name": "stderr",
     "output_type": "stream",
     "text": [
      "Evaluating: 100%|██████████| 103/103 [00:00<00:00, 543.70step/s, acc=1, loss=0]      "
     ]
    },
    {
     "name": "stdout",
     "output_type": "stream",
     "text": [
      "Eval samples:409, Eval Loss: 0.0000, Eval Acc: 1.0000\n",
      "Epoch [20/20] finish\n",
      "==============================\n"
     ]
    },
    {
     "name": "stderr",
     "output_type": "stream",
     "text": [
      "\n"
     ]
    }
   ],
   "source": [
    "# 模型训练\n",
    "\n",
    "model_worker.train(\n",
    "    criterion=loss,\n",
    "    optimizer=optimizer,\n",
    "    train_loader=train_loader,\n",
    "    eval_loader=eval_loader,\n",
    "    epochs=20,\n",
    "    enable_board=True,\n",
    ")"
   ]
  },
  {
   "cell_type": "code",
   "execution_count": 5,
   "metadata": {},
   "outputs": [
    {
     "name": "stderr",
     "output_type": "stream",
     "text": [
      "Evaluating: 100%|██████████| 103/103 [00:00<00:00, 179.02step/s, acc=1, loss=0]      "
     ]
    },
    {
     "name": "stdout",
     "output_type": "stream",
     "text": [
      "Eval samples:409, Eval Loss: 0.0000, Eval Acc: 1.0000\n"
     ]
    },
    {
     "name": "stderr",
     "output_type": "stream",
     "text": [
      "\n"
     ]
    },
    {
     "data": {
      "text/plain": [
       "(4.3373290288896056e-05, 1.0)"
      ]
     },
     "execution_count": 5,
     "metadata": {},
     "output_type": "execute_result"
    }
   ],
   "source": [
    "# 模型评估\n",
    "\n",
    "model_worker.evaluate(\n",
    "    eval_loader=eval_loader,\n",
    "    criterion=loss,\n",
    ")"
   ]
  },
  {
   "cell_type": "code",
   "execution_count": 6,
   "metadata": {},
   "outputs": [],
   "source": [
    "# 保存模型\n",
    "model_worker.save('./output/ACR.pth')"
   ]
  },
  {
   "cell_type": "code",
   "execution_count": null,
   "metadata": {},
   "outputs": [],
   "source": [
    "# 加载模型\n",
    "model_worker.load('./output/ACR.pth')"
   ]
  },
  {
   "cell_type": "code",
   "execution_count": 15,
   "metadata": {},
   "outputs": [
    {
     "name": "stdout",
     "output_type": "stream",
     "text": [
      "inputs.shape=torch.Size([4, 1, 32, 12])\n",
      "acc=1.0\n",
      "indexs:tensor([146, 282, 212,  88])\n",
      "labels:tensor([1, 2, 1, 0])\n",
      "preds :tensor([1, 2, 1, 0], device='cuda:0')\n"
     ]
    }
   ],
   "source": [
    "# 模型预测\n",
    "\n",
    "indexs,inputs,labels = data_utils.select_simple(eval_dataset,count=4)\n",
    "preds,acc = model_worker.predict(inputs=inputs,labels=labels)\n",
    "\n",
    "print(f\"{inputs.shape=}\")\n",
    "print(f\"{acc=}\")\n",
    "print(f\"indexs:{indexs}\")\n",
    "print(f\"labels:{labels}\")\n",
    "print(f\"preds :{preds}\")"
   ]
  }
 ],
 "metadata": {
  "kernelspec": {
   "display_name": ".venv",
   "language": "python",
   "name": "python3"
  },
  "language_info": {
   "codemirror_mode": {
    "name": "ipython",
    "version": 3
   },
   "file_extension": ".py",
   "mimetype": "text/x-python",
   "name": "python",
   "nbconvert_exporter": "python",
   "pygments_lexer": "ipython3",
   "version": "3.12.7"
  }
 },
 "nbformat": 4,
 "nbformat_minor": 2
}
