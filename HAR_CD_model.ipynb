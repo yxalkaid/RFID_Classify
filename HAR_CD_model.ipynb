{
 "cells": [
  {
   "cell_type": "markdown",
   "metadata": {},
   "source": [
    "### 人类活动识别——条件扩散"
   ]
  },
  {
   "cell_type": "code",
   "execution_count": null,
   "metadata": {},
   "outputs": [],
   "source": [
    "# 加载类别信息\n",
    "\n",
    "from utils.ConfigUtils import get_classes\n",
    "\n",
    "classes=list(get_classes(\"./data/RFID_multi_628/data.yml\").values())\n",
    "num_classes = len(classes)\n",
    "\n",
    "print(classes)"
   ]
  },
  {
   "cell_type": "code",
   "execution_count": null,
   "metadata": {},
   "outputs": [],
   "source": [
    "# 数据预处理\n",
    "from torchvision import transforms\n",
    "from model.Normalization import RobustNorm\n",
    "from model.Augmentation import NoiseAug\n",
    "\n",
    "transform=transforms.Compose([\n",
    "    RobustNorm(-68.0, 68.0),\n",
    "    # NoiseAug(0.2,std=(0.001))\n",
    "])\n",
    "# transform=None"
   ]
  },
  {
   "cell_type": "code",
   "execution_count": null,
   "metadata": {},
   "outputs": [],
   "source": [
    "# 加载数据集\n",
    "from model.RFID_Dataset import RFID_Dataset\n",
    "\n",
    "train_dir = \"./data/RFID_multi_628/dataset/train\"\n",
    "eval_dir = \"./data/RFID_multi_628/dataset/eval\"\n",
    "\n",
    "train_dataset = RFID_Dataset(\n",
    "    train_dir,\n",
    "    T=32,\n",
    "    step=1,\n",
    "    num_channels=3,\n",
    "    transform=transform,\n",
    ")\n",
    "\n",
    "eval_dataset = RFID_Dataset(\n",
    "    eval_dir,\n",
    "    T=32,\n",
    "    step=1,\n",
    "    num_channels=3,\n",
    "    transform=transform,\n",
    ")\n",
    "\n",
    "print(f\"训练集的数据个数: {len(train_dataset)}\")\n",
    "print(f\"验证集的数据个数: {len(eval_dataset)}\")"
   ]
  },
  {
   "cell_type": "code",
   "execution_count": null,
   "metadata": {},
   "outputs": [],
   "source": [
    "# 模型组网\n",
    "\n",
    "from model.base.UNet import UNet\n",
    "# from model.v1.UNet import UNet\n",
    "# from model.v2.UNet import UNet\n",
    "# from model.v3.UNet import UNet\n",
    "# from model.v4.UNet import UNet\n",
    "\n",
    "from model.BetaScheduler import LinearBetaScheduler\n",
    "from model.CD_Model import CD_Model\n",
    "from model.ModelWorker.CDModelWorker import CDModelWorker\n",
    "import torch\n",
    "from torchkeras import summary\n",
    "\n",
    "input_shape = (3, 32, 12)\n",
    "\n",
    "model = CD_Model(\n",
    "    UNet(\n",
    "        input_shape=input_shape,\n",
    "        init_features=64,\n",
    "        embed_dim=128,\n",
    "        num_heads=1,\n",
    "        num_groups=16,\n",
    "    ),\n",
    "    LinearBetaScheduler(timesteps=1000,beta_end=0.02),\n",
    "    num_classes=6,\n",
    "    embed_dim=128,\n",
    "    enable_guidance=True,\n",
    ")\n",
    "\n",
    "model_worker = CDModelWorker(model)\n",
    "\n",
    "print(f\"{input_shape=}\")\n",
    "\n",
    "time = torch.tensor([0], dtype=torch.long)\n",
    "condition = torch.tensor([0], dtype=torch.long)\n",
    "model_info = summary(model, input_shape=input_shape, time=time, condition=condition)"
   ]
  },
  {
   "cell_type": "code",
   "execution_count": null,
   "metadata": {},
   "outputs": [],
   "source": [
    "# 模型准备\n",
    "from torch.utils.data import DataLoader\n",
    "from torch import nn\n",
    "from torch import optim\n",
    "from model.Loss import *\n",
    "\n",
    "train_loader = DataLoader(train_dataset, batch_size=256, shuffle=True,num_workers=4)\n",
    "eval_loader = DataLoader(eval_dataset, batch_size=256,num_workers=4)\n",
    "\n",
    "loss = nn.MSELoss()\n",
    "# loss = MinSNRLoss()\n",
    "# loss=SigmoidLoss()\n",
    "optimizer = optim.AdamW(model.parameters(), lr=0.0001, weight_decay=0.0001)\n",
    "# scheduler=optim.lr_scheduler.ExponentialLR(optimizer, gamma=0.98)\n",
    "scheduler=optim.lr_scheduler.CosineAnnealingLR(optimizer, T_max=100)"
   ]
  },
  {
   "cell_type": "code",
   "execution_count": null,
   "metadata": {},
   "outputs": [],
   "source": [
    "model.scheduler.timesteps=1000"
   ]
  },
  {
   "cell_type": "code",
   "execution_count": null,
   "metadata": {},
   "outputs": [],
   "source": [
    "# 模型训练\n",
    "\n",
    "model_worker.train(\n",
    "    criterion=loss,\n",
    "    optimizer=optimizer,\n",
    "    train_loader=train_loader,\n",
    "    # eval_loader=eval_loader,\n",
    "    epochs=200, \n",
    "    scheduler=scheduler,\n",
    "    cond_dropout_rate=0.1, \n",
    "    enable_board=False,\n",
    "    verbose=1\n",
    ")"
   ]
  },
  {
   "cell_type": "code",
   "execution_count": null,
   "metadata": {},
   "outputs": [],
   "source": [
    "# 模型评估\n",
    "\n",
    "model_worker.evaluate(\n",
    "    eval_loader=train_loader,\n",
    "    criterion=nn.MSELoss(),\n",
    "    step=10,\n",
    "    verbose=2\n",
    ")"
   ]
  },
  {
   "cell_type": "code",
   "execution_count": null,
   "metadata": {},
   "outputs": [],
   "source": [
    "# 模型评估-时间步序列\n",
    "import torch\n",
    "from torch import nn\n",
    "\n",
    "sequence=torch.linspace(0, 1000,10+1,dtype=torch.long).tolist()[1:]\n",
    "print(sequence)\n",
    "\n",
    "eval_loss=nn.MSELoss()\n",
    "# eval_loss=ConstantLoss()\n",
    "loss_group=model_worker.evaluate_sequence(\n",
    "    eval_loader=train_loader,\n",
    "    criterion=eval_loss,\n",
    "    time=sequence,\n",
    "    verbose=1\n",
    ")\n",
    "for item in loss_group.items():\n",
    "    print(item)"
   ]
  },
  {
   "cell_type": "code",
   "execution_count": null,
   "metadata": {},
   "outputs": [],
   "source": [
    "from utils.JsonUtils import *\n",
    "\n",
    "info={\n",
    "    \"epoch\":epoch,\n",
    "    \"loss\":loss_group\n",
    "}\n",
    "append_data(info, \"./output/HAR_CD/base/loss.json\")"
   ]
  },
  {
   "cell_type": "code",
   "execution_count": null,
   "metadata": {},
   "outputs": [],
   "source": [
    "from utils.JsonUtils import load_data\n",
    "from utils.DataUtils.Visualization import plot_curves\n",
    "\n",
    "data=load_data(\"./output/HAR_CD/base/loss.json\")\n",
    "loss_data = {}\n",
    "for item in data:\n",
    "    loss_data[item[\"epoch\"]] = item[\"loss\"]\n",
    "\n",
    "plot_curves(\n",
    "    loss_data,\n",
    ")\n"
   ]
  },
  {
   "cell_type": "code",
   "execution_count": null,
   "metadata": {},
   "outputs": [],
   "source": [
    "# 保存模型\n",
    "model_worker.save(f'./output/HAR_CD/base_MSE/weights/HAR_CD_1600.pth')"
   ]
  },
  {
   "cell_type": "code",
   "execution_count": null,
   "metadata": {},
   "outputs": [],
   "source": [
    "# 加载模型\n",
    "model_worker.load(\"./output/HAR_CD/base_MSE/weights/HAR_CD_1600.pth\")"
   ]
  },
  {
   "cell_type": "code",
   "execution_count": null,
   "metadata": {},
   "outputs": [],
   "source": [
    "epoch=200"
   ]
  },
  {
   "cell_type": "code",
   "execution_count": null,
   "metadata": {},
   "outputs": [],
   "source": [
    "# DDPM采样\n",
    "from model.RFID_Dataset import save_samples\n",
    "\n",
    "for batch in range(1):\n",
    "    print(f\"{batch=}\")\n",
    "    for i in range(num_classes):\n",
    "        # 生成数据\n",
    "        condition = i\n",
    "        datas = model_worker.generate_sample_batch(\n",
    "            100,\n",
    "            condition,\n",
    "            guidance_scale=2,\n",
    "        )\n",
    "\n",
    "        # 保存数据\n",
    "        save_samples(\n",
    "            datas, \n",
    "            output_dir=f\"./output/base_1600/{condition}\",\n",
    "            merge=True,\n",
    "        )\n",
    "    print(\"=\" * 20)"
   ]
  },
  {
   "cell_type": "code",
   "execution_count": null,
   "metadata": {},
   "outputs": [],
   "source": [
    "from torchvision import transforms\n",
    "from model.RFID_Dataset import build_class_datasets\n",
    "from model.Normalization import RobustNorm\n",
    "\n",
    "train_transform=transforms.Compose([\n",
    "    RobustNorm(-68.0, 68.0),\n",
    "    transforms.Resize(size=(299,299)),\n",
    "    transforms.Lambda(lambda x: x.repeat(3, 1, 1)),\n",
    "])\n",
    "\n",
    "# 训练集\n",
    "train_datasets=build_class_datasets(\n",
    "    \"./data/RFID_multi_628/dataset/train\",\n",
    "    T=32,\n",
    "    step=1,\n",
    "    num_channels=3,\n",
    "    transforms=train_transform,\n",
    ")\n",
    "for label,dataset in train_datasets.items():\n",
    "    print(f\"label {label} 数据个数为: {len(dataset)}\")"
   ]
  },
  {
   "cell_type": "code",
   "execution_count": null,
   "metadata": {},
   "outputs": [],
   "source": [
    "from torchvision import transforms\n",
    "from model.RFID_Dataset import build_class_datasets\n",
    "from model.Normalization import RobustNorm\n",
    "\n",
    "eval_transform=transforms.Compose([\n",
    "    RobustNorm(-1.0, 1.0),\n",
    "    transforms.Resize(size=(299,299)),\n",
    "    transforms.Lambda(lambda x: x.repeat(3, 1, 1)),\n",
    "])\n",
    "\n",
    "# 测试集\n",
    "test_datasets=build_class_datasets(\n",
    "    f\"./output/base_1600\",\n",
    "    T=32,\n",
    "    step=32,\n",
    "    num_channels=3,\n",
    "    transforms=eval_transform,\n",
    ")\n",
    "for label,dataset in test_datasets.items():\n",
    "    print(f\"label {label} 数据个数为: {len(dataset)}\")"
   ]
  },
  {
   "cell_type": "code",
   "execution_count": null,
   "metadata": {},
   "outputs": [],
   "source": [
    "from utils.JsonUtils import *\n",
    "\n",
    "info={\n",
    "    \"epoch\":epoch,\n",
    "    \"fid\":fid_group\n",
    "}\n",
    "append_data(info, \"./output/HAR_CD/base/fid.json\")"
   ]
  },
  {
   "cell_type": "code",
   "execution_count": null,
   "metadata": {},
   "outputs": [],
   "source": [
    "from utils.JsonUtils import load_data\n",
    "from utils.DataUtils.Visualization import plot_curves\n",
    "\n",
    "data=load_data(\"./output/HAR_CD/base/fid.json\")\n",
    "loss_data = {}\n",
    "for item in data:\n",
    "    loss_data[item[\"epoch\"]] = item[\"fid\"]\n",
    "\n",
    "plot_curves(\n",
    "    loss_data,\n",
    ")\n"
   ]
  }
 ],
 "metadata": {
  "kernelspec": {
   "display_name": ".venv",
   "language": "python",
   "name": "python3"
  },
  "language_info": {
   "codemirror_mode": {
    "name": "ipython",
    "version": 3
   },
   "file_extension": ".py",
   "mimetype": "text/x-python",
   "name": "python",
   "nbconvert_exporter": "python",
   "pygments_lexer": "ipython3",
   "version": "3.12.7"
  }
 },
 "nbformat": 4,
 "nbformat_minor": 2
}
