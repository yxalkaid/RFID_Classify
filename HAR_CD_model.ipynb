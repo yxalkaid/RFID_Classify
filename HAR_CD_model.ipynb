{
 "cells": [
  {
   "cell_type": "markdown",
   "metadata": {},
   "source": [
    "### 人类活动识别——条件扩散"
   ]
  },
  {
   "cell_type": "code",
   "execution_count": null,
   "metadata": {},
   "outputs": [],
   "source": [
    "from model.RFID_Dataset import RFID_Dataset\n",
    "\n",
    "train_dir = r\"data\\RFID\\dataset\\all\"\n",
    "eval_dir = r\"data\\RFID\\dataset\\eval\"\n",
    "\n",
    "from torchvision import transforms\n",
    "from model.Normalization import RobustNorm\n",
    "from model.Augmentation import NoiseAug\n",
    "\n",
    "transform=transforms.Compose([\n",
    "    RobustNorm(-35.0, 35.0),\n",
    "    # NoiseAug(0.2,std=(0.001))\n",
    "])\n",
    "# transform=None\n",
    "\n",
    "# 加载数据集\n",
    "train_dataset = RFID_Dataset(\n",
    "    train_dir,\n",
    "    T=32,\n",
    "    step=1,\n",
    "    transform=transform,\n",
    ")\n",
    "\n",
    "eval_dataset = RFID_Dataset(\n",
    "    eval_dir,\n",
    "    T=32,\n",
    "    step=1,\n",
    "    transform=transform,\n",
    ")\n",
    "\n",
    "print(f\"训练集的数据个数: {len(train_dataset)}\")\n",
    "print(f\"验证集的数据个数: {len(eval_dataset)}\")"
   ]
  },
  {
   "cell_type": "code",
   "execution_count": null,
   "metadata": {},
   "outputs": [],
   "source": [
    "# 模型组网\n",
    "\n",
    "# from model.base.UNet import UNet\n",
    "# from model.v1.UNet import UNet\n",
    "# from model.v2.UNet import UNet\n",
    "from model.v3.UNet import UNet\n",
    "\n",
    "from model.BetaScheduler import LinearBetaScheduler\n",
    "from model.CD_Model import CD_Model\n",
    "from model.ModelWorker.CDModelWorker import CDModelWorker\n",
    "import torch\n",
    "from torchkeras import summary\n",
    "\n",
    "input_shape = (1, 32, 12)\n",
    "\n",
    "model = CD_Model(\n",
    "    UNet(\n",
    "        input_shape=input_shape,\n",
    "        init_features=64,\n",
    "        embed_dim=128,\n",
    "        num_heads=2,\n",
    "        num_groups=16,\n",
    "    ),\n",
    "    LinearBetaScheduler(timesteps=1000),\n",
    "    num_classes=3,\n",
    "    embed_dim=128,\n",
    "    enable_guidance=True,\n",
    ")\n",
    "\n",
    "model_worker = CDModelWorker(model)\n",
    "\n",
    "print(f\"{input_shape=}\")\n",
    "\n",
    "time = torch.tensor([0], dtype=torch.long)\n",
    "condition = torch.tensor([0], dtype=torch.long)\n",
    "model_info = summary(model, input_shape=input_shape, time=time, condition=condition)"
   ]
  },
  {
   "cell_type": "code",
   "execution_count": null,
   "metadata": {},
   "outputs": [],
   "source": [
    "# 模型准备\n",
    "from torch.utils.data import DataLoader\n",
    "from torch import nn\n",
    "from torch import optim\n",
    "from model.Loss import MinSNRLoss,SigmoidLoss\n",
    "\n",
    "train_loader = DataLoader(train_dataset, batch_size=32, shuffle=True)\n",
    "eval_loader = DataLoader(eval_dataset, batch_size=16)\n",
    "\n",
    "# loss = nn.MSELoss()\n",
    "loss = MinSNRLoss()\n",
    "# loss=SigmoidLoss()\n",
    "optimizer = optim.AdamW(model.parameters(), lr=0.0001, weight_decay=0.0001)\n",
    "scheduler=optim.lr_scheduler.ExponentialLR(optimizer, gamma=0.98)\n",
    "# scheduler=optim.lr_scheduler.CosineAnnealingLR(optimizer, T_max=240)"
   ]
  },
  {
   "cell_type": "code",
   "execution_count": null,
   "metadata": {},
   "outputs": [],
   "source": [
    "# 模型训练\n",
    "\n",
    "model_worker.train(\n",
    "    criterion=loss,\n",
    "    optimizer=optimizer,\n",
    "    train_loader=train_loader,\n",
    "    # eval_loader=eval_loader,\n",
    "    epochs=120,\n",
    "    scheduler=scheduler,\n",
    "    cond_dropout_rate=0.1,\n",
    "    enable_board=True,\n",
    "    verbose=1 \n",
    ")"
   ]
  },
  {
   "cell_type": "code",
   "execution_count": null,
   "metadata": {},
   "outputs": [],
   "source": [
    "# 模型评估\n",
    "\n",
    "model_worker.evaluate(\n",
    "    eval_loader=train_loader,\n",
    "    criterion=loss,\n",
    "    verbose=2\n",
    ")"
   ]
  },
  {
   "cell_type": "code",
   "execution_count": null,
   "metadata": {},
   "outputs": [],
   "source": [
    "# 保存模型\n",
    "model_worker.save('./output/HAR_CD_model/v3/HAR_CD_model.pth')"
   ]
  },
  {
   "cell_type": "code",
   "execution_count": null,
   "metadata": {},
   "outputs": [],
   "source": [
    "# 加载模型\n",
    "model_worker.load('./output/HAR_CD_model/v3/HAR_CD_model.pth')"
   ]
  },
  {
   "cell_type": "code",
   "execution_count": null,
   "metadata": {},
   "outputs": [],
   "source": [
    "from model.RFID_Dataset import save_samples\n",
    "\n",
    "num_classes = 3\n",
    "for i in range(num_classes):\n",
    "    # 生成数据\n",
    "    condition = i\n",
    "    datas = model_worker.generate_sample_batch(\n",
    "        20,\n",
    "        condition,\n",
    "        guidance_scale=2,\n",
    "    )\n",
    "\n",
    "    # 保存数据\n",
    "    save_samples(\n",
    "        datas, \n",
    "        output_dir=f\"./output/v3/{condition}\",\n",
    "        merge=True,\n",
    "    )"
   ]
  }
 ],
 "metadata": {
  "kernelspec": {
   "display_name": ".venv",
   "language": "python",
   "name": "python3"
  },
  "language_info": {
   "codemirror_mode": {
    "name": "ipython",
    "version": 3
   },
   "file_extension": ".py",
   "mimetype": "text/x-python",
   "name": "python",
   "nbconvert_exporter": "python",
   "pygments_lexer": "ipython3",
   "version": "3.12.7"
  }
 },
 "nbformat": 4,
 "nbformat_minor": 2
}
