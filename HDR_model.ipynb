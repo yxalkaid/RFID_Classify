{
 "cells": [
  {
   "cell_type": "markdown",
   "metadata": {},
   "source": [
    "### 手写数字识别"
   ]
  },
  {
   "cell_type": "code",
   "execution_count": null,
   "metadata": {},
   "outputs": [],
   "source": [
    "from torchvision.datasets import MNIST\n",
    "import torchvision.transforms as transforms\n",
    "from utils.DatasetUtils import DatasetUtils\n",
    "\n",
    "data_utils= DatasetUtils()\n",
    "\n",
    "# 加载数据集\n",
    "transform = transforms.Compose([\n",
    "    transforms.ToTensor(),\n",
    "    transforms.Normalize((0.5,), (0.5,))\n",
    "])\n",
    "\n",
    "train_dataset = MNIST(root='./data', train=True, download=True, transform=transform)\n",
    "eval_dataset = MNIST(root='./data', train=False, download=True, transform=transform)\n",
    "\n",
    "print(f\"训练集的数据个数: {len(train_dataset)}\")\n",
    "print(f\"验证集的数据个数: {len(eval_dataset)}\")"
   ]
  },
  {
   "cell_type": "code",
   "execution_count": null,
   "metadata": {},
   "outputs": [],
   "source": [
    "# 查看数据集的样例\n",
    "\n",
    "data_utils.show_image_simple(train_dataset,count=4)"
   ]
  },
  {
   "cell_type": "code",
   "execution_count": null,
   "metadata": {},
   "outputs": [],
   "source": [
    "# 模型组网\n",
    "from torchkeras import summary\n",
    "from model.ClassifyNet import ClassifyNet\n",
    "\n",
    "from utils.ModelWorker.ClassifyModelWorker import ClassifyModelWorker\n",
    "\n",
    "input_shape=data_utils.get_data_shape(train_dataset)\n",
    "model=ClassifyNet(\n",
    "    input_shape=(1,28,28),\n",
    "    num_classes=10\n",
    ")\n",
    "\n",
    "model_worker=ClassifyModelWorker(model)\n",
    "\n",
    "print(f\"{input_shape=}\")\n",
    "model_info=summary(model,input_shape=input_shape)"
   ]
  },
  {
   "cell_type": "code",
   "execution_count": null,
   "metadata": {},
   "outputs": [],
   "source": [
    "# 模型准备\n",
    "from torch.utils.data import DataLoader\n",
    "from torch import nn\n",
    "from torch import optim\n",
    "\n",
    "train_loader = DataLoader(train_dataset, batch_size=64, shuffle=True)\n",
    "eval_loader = DataLoader(eval_dataset, batch_size=64)\n",
    "\n",
    "loss = nn.CrossEntropyLoss()\n",
    "optimizer = optim.Adam(model.parameters(), lr=0.001)\n"
   ]
  },
  {
   "cell_type": "code",
   "execution_count": null,
   "metadata": {},
   "outputs": [],
   "source": [
    "# 模型训练\n",
    "\n",
    "model_worker.train(\n",
    "    criterion=loss,\n",
    "    optimizer=optimizer,\n",
    "    train_loader=train_loader,\n",
    "    eval_loader=eval_loader,\n",
    "    epochs=5,\n",
    ")"
   ]
  },
  {
   "cell_type": "code",
   "execution_count": null,
   "metadata": {},
   "outputs": [],
   "source": [
    "# 模型评估\n",
    "\n",
    "model_worker.evaluate(\n",
    "    eval_loader=eval_loader,\n",
    "    criterion=loss,\n",
    ")"
   ]
  },
  {
   "cell_type": "code",
   "execution_count": null,
   "metadata": {},
   "outputs": [],
   "source": [
    "# 保存模型\n",
    "model_worker.save('./output/HDR.pth')"
   ]
  },
  {
   "cell_type": "code",
   "execution_count": null,
   "metadata": {},
   "outputs": [],
   "source": [
    "# 加载模型\n",
    "model_worker.load('./output/HDR.pth')"
   ]
  },
  {
   "cell_type": "code",
   "execution_count": null,
   "metadata": {},
   "outputs": [],
   "source": [
    "# 模型预测\n",
    "\n",
    "indexs,inputs,labels = data_utils.select_simple(eval_dataset,count=4)\n",
    "preds,acc = model_worker.predict(inputs=inputs,labels=labels)\n",
    "\n",
    "print(f\"{inputs.shape=}\")\n",
    "print(f\"{acc=}\")\n",
    "print(f\"indexs:{indexs}\")\n",
    "print(f\"labels:{labels}\")\n",
    "print(f\"preds :{preds}\")\n",
    "\n",
    "data_utils.show_image_batch(inputs,with_title=False)"
   ]
  }
 ],
 "metadata": {
  "kernelspec": {
   "display_name": ".venv",
   "language": "python",
   "name": "python3"
  },
  "language_info": {
   "codemirror_mode": {
    "name": "ipython",
    "version": 3
   },
   "file_extension": ".py",
   "mimetype": "text/x-python",
   "name": "python",
   "nbconvert_exporter": "python",
   "pygments_lexer": "ipython3",
   "version": "3.12.7"
  }
 },
 "nbformat": 4,
 "nbformat_minor": 2
}
